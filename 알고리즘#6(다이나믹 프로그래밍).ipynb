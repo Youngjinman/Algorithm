{
 "cells": [
  {
   "cell_type": "markdown",
   "id": "ec57e631",
   "metadata": {},
   "source": [
    "## 피보나치 수열"
   ]
  },
  {
   "cell_type": "code",
   "execution_count": 4,
   "id": "2d1174a5",
   "metadata": {},
   "outputs": [
    {
     "name": "stdout",
     "output_type": "stream",
     "text": [
      "3\n"
     ]
    }
   ],
   "source": [
    "def fibo(x):\n",
    "    if x==1 or x==2: ## 종료 조건\n",
    "        return 1\n",
    "    else:\n",
    "        return fibo(x-1) + fibo(x-2)\n",
    "print(fibo(4))"
   ]
  },
  {
   "cell_type": "markdown",
   "id": "c1bdad04",
   "metadata": {},
   "source": [
    "##### 위와 같이 문제를 재귀적으로 해결하면 지수 시간복잡도가 나와서 n이 커지면 시간복잡도가 기하급수적으로 커짐\n",
    "fibo(4)를 구할 때만 봐도 fibo(2)가 여러번 연산이 된다(중복되는 문제)\n",
    "중복으로 계산하는 문제에 대해서는 메모리에 저장해두고 더이상 연산을 하지 않으면 시간복잡도가 낮아짐"
   ]
  },
  {
   "cell_type": "markdown",
   "id": "86aa6d59",
   "metadata": {},
   "source": [
    "# 다이나믹 프로그래밍의 사용조건\n",
    "1. 큰 문제를 작은 문제로 나눌 수 있다(최적 부분 구조)\n",
    "2. 동일한 작은 문제를 반복적으로 해결한다(중복되는 부분 문제)"
   ]
  },
  {
   "cell_type": "markdown",
   "id": "c34764cb",
   "metadata": {},
   "source": [
    "## 탑다운(메모이제이션(memoization))\n",
    "한 번 계산한 결과를 메모리 공간에 메모('캐싱'이라고도 함)\n",
    "->같은 문제를 호출할 때 메모리에서 불어오기만 하면 된다"
   ]
  },
  {
   "cell_type": "markdown",
   "id": "c85fbcef",
   "metadata": {},
   "source": [
    "## 바텀업(반복문)\n",
    "작은 문제를 해결하여 큰 문제 해결 -> 기본적인 다이나믹 프로그래밍은 바텀업을 가정"
   ]
  },
  {
   "cell_type": "markdown",
   "id": "143f14cf",
   "metadata": {},
   "source": [
    "# 피보나치 수열 : 탑다운 다이나믹 프로그래밍"
   ]
  },
  {
   "cell_type": "code",
   "execution_count": 7,
   "id": "9832cbf8",
   "metadata": {},
   "outputs": [
    {
     "name": "stdout",
     "output_type": "stream",
     "text": [
      "218922995834555169026\n"
     ]
    }
   ],
   "source": [
    "#한 번 계산된 결과를 메모이제이션하기 위해 리스트를 초기화\n",
    "d = [0]*100\n",
    "\n",
    "def fibo(x):\n",
    "    if x==1 or x==2: # 종료 조건\n",
    "        return 1\n",
    "    if d[x] != 0: # 계산한 적 있는 결과를 호출할 때 메모리에서 꺼내옴\n",
    "        return d[x]\n",
    "    else:\n",
    "        d[x] = fibo(x-1) + fibo(x-2) # 계산한 적 없다면 재귀로 결과 반환\n",
    "        return d[x]\n",
    "\n",
    "print(fibo(99))"
   ]
  },
  {
   "cell_type": "markdown",
   "id": "304b03f7",
   "metadata": {},
   "source": [
    "# 피보나치 수열 : 바텀업 다이나믹 프로그래밍"
   ]
  },
  {
   "cell_type": "code",
   "execution_count": 9,
   "id": "cab0cf73",
   "metadata": {},
   "outputs": [
    {
     "name": "stdout",
     "output_type": "stream",
     "text": [
      "218922995834555169026\n"
     ]
    }
   ],
   "source": [
    "#앞서 계산된 결과를 저장하기 위한 dp테이블 초기화\n",
    "d = [0]*100\n",
    "#첫번째와 두번째 피보나치 수는 1\n",
    "d[1]=1\n",
    "d[2]=1\n",
    "n=99\n",
    "\n",
    "#피보나치 함수 반복문으로 구현(바텀업)\n",
    "for i in range(3,n+1):\n",
    "    d[i] = d[i-1]+d[i-2]\n",
    "    \n",
    "print(d[n])"
   ]
  },
  {
   "cell_type": "markdown",
   "id": "d845e076",
   "metadata": {},
   "source": [
    "## 시간복잡도 O(n)으로 줄임"
   ]
  },
  {
   "cell_type": "markdown",
   "id": "3900b05a",
   "metadata": {},
   "source": [
    "# 개미전사 문제 (바텀업 다이나믹 프로그래밍으로 해결)\n",
    "##### 붙어있는 식량 창고는 약탈할 수 없을 때 약탈할 수 있는 최댓값을 구하는 문제\n",
    "##### i번째 식량을 턴다고 했을 때 i-1번째를 털었을 때와 i-2번째를 털었을 때를 비교하여 더 큰 값이 나올 때를 고르면 됨\n",
    "##### -> 점화식: ai = max(ai-1, ai-2 + ki) ..... ki는 i번째 식량"
   ]
  },
  {
   "cell_type": "code",
   "execution_count": 15,
   "id": "d9ece7ce",
   "metadata": {},
   "outputs": [
    {
     "name": "stdout",
     "output_type": "stream",
     "text": [
      "5\n",
      "1 13 2 4 5\n",
      "18\n"
     ]
    }
   ],
   "source": [
    "# 식량창고 개수 입력받기\n",
    "n = int(input())\n",
    "# 식량창고 안의 식량 리스트 입력 받기\n",
    "array = list(map(int,input().split()))\n",
    "# dp 테이블 초기화 (식량 창고는 100개까지 존재할 수 있음) -> 여기서는 최댓값을 저장하는 용도\n",
    "d = [0]*100\n",
    "\n",
    "d[0] = array[0] #첫번째 식량창고\n",
    "d[1] = max(array[0],array[1]) #두번째 식량창고까지의 최댓값\n",
    "for i in range(2,n):\n",
    "    d[i] = max(d[i-1], d[i-2]+array[i])\n",
    "print(d[n-1])"
   ]
  },
  {
   "cell_type": "markdown",
   "id": "3ec359e4",
   "metadata": {},
   "source": [
    "# 1로 만들기 문제\n",
    "    x가 5로 나누어떨어질 때 5로 나눌 수 있음\n",
    "    x가 3으로 나누어떨어질 때 3으로 나눌 수 있음\n",
    "    x가 2로 나누어떨어질 때 2로 나눌 수 있음\n",
    "    x에 1을 뺄 수 있음\n",
    "    (x는 30000까지 입력 받을 수 있음)\n",
    "1로 만드는 연산의 최소 횟수를 구하시오\n",
    "\n",
    "1. 연산 4개 중 하나임 (부분문제)\n",
    "2. 점화식을 구함 ai = min(ai-1, ai/5, ai/3, ai/2) + 1 (1을 빼는 것 외에는 나누어 떨어질 수 있는 조건을 만족해야함),(마지막에 1을 더한 것은 연산을 한 번 했다는 뜻)"
   ]
  },
  {
   "cell_type": "code",
   "execution_count": 16,
   "id": "87594cc5",
   "metadata": {},
   "outputs": [
    {
     "name": "stdout",
     "output_type": "stream",
     "text": [
      "30\n",
      "3\n"
     ]
    }
   ],
   "source": [
    "#x 입력받기\n",
    "x = int(input())\n",
    "#앞서 저장된 결과 저장을 위한 dp테이블 초기화\n",
    "d = [0]*30001 #x가 1일 때는 연산을 수행할 필요가 없어서 0으로 초기화 되어있다고 가정\n",
    "#바텀업 다이나믹 프로그래밍\n",
    "for i in range(2,x+1):\n",
    "    #1을 빼주는 결과 저장\n",
    "    d[i] = d[i-1]+1\n",
    "    #2로 나누어 떨어지는 경우\n",
    "    if i%2 == 0:\n",
    "        d[i] = min(d[i],d[i//2]+1)\n",
    "    #3으로 나누어 떨어지는 경우\n",
    "    if i%3 == 0:\n",
    "        d[i] = min(d[i],d[i//3]+1)\n",
    "    #5로 나누어 떨어지는 경우\n",
    "    if i%5 == 0:\n",
    "        d[i] = min(d[i],d[i//5]+1)\n",
    "print(d[x])"
   ]
  },
  {
   "cell_type": "markdown",
   "id": "95edad06",
   "metadata": {},
   "source": [
    "## 효율적인 화폐구성 문제\n",
    "    n개의 화폐종류, m원 만들기-> 최소 화폐 개수 구하기 (N<=100, M<=10000)\n",
    "    불가능 할 때는 -1 출력\n",
    "    \n",
    "    금액 m을 만들기까지 i를 만든다고 하면 작은 문제로 쪼갤 수 있음 -> 점화식 도출\n",
    "       화폐단위 k를 하나씩 확인하며 ai-k 를 만들 수 있는 방법이 존재한다면 ai = min(ai, ai-k +1) -> ai 는 k를 더하면 만들 수 있으므로...\n",
    "            ai-k를 만들 수 없다면 ai = 임의의 무한대값\n",
    "            \n",
    "예를 들어 화폐단위가 2, 3, 5원일 때 2원을 만들 수 있으므로 4원은 거기에 1연산만 하면 만들 수 있고 다시 6도 그렇게 만들 수 있다, 7원도 5원이 있으므로 거기에서 1연산만 하면 만들 수 있다. 만들 수 없는 값에 대해서는 INF(해당 문제에서는 100001이 만들수없는 무한대값)처리"
   ]
  },
  {
   "cell_type": "code",
   "execution_count": 21,
   "id": "01fb7643",
   "metadata": {},
   "outputs": [
    {
     "name": "stdout",
     "output_type": "stream",
     "text": [
      "3 4\n",
      "3\n",
      "5\n",
      "7\n",
      "-1\n"
     ]
    }
   ],
   "source": [
    "#n, m 입력 받기\n",
    "n, m = map(int,input().split())\n",
    "array = []\n",
    "#n개의 화폐 단위 array에 채우기\n",
    "for i in range(n):\n",
    "    array.append(int(input()))\n",
    "#dp 테이블 초기화-> INF 값으로 채워줌\n",
    "d = [10001]*(m+1) # 0원부터 m원까지\n",
    "#바텀업 다이나믹 프로그래밍\n",
    "d[0] = 0\n",
    "for i in range(n): #i는 각각의 화폐 단위\n",
    "    for j in range(array[i],m+1): #j는 각각의 금액\n",
    "        # i-k 원을 만드는 방법이 존재한다면\n",
    "        if d[j - array[i]] != 10001:\n",
    "            d[j] = min(d[j],d[j - array[i]]+1)\n",
    "if d[m] == 10001:\n",
    "    print(-1)\n",
    "else:\n",
    "    print(d[m])"
   ]
  },
  {
   "cell_type": "markdown",
   "id": "61302a4c",
   "metadata": {},
   "source": [
    "## 금광 문제\n",
    "    i,j 행렬의 금광에서 첫번째열 아무행에서 출발하여 오른쪽 열로 이동하는데 오른쪽 위나 오른쪽, 오른쪽 아래로만 움직일 수 있음.\n",
    "    이 때 금의 최대 개수를 구하는 문제\n",
    "    \n",
    "    dp테이블도 i,j 행렬로 만들어야함 -> i행 j열까지의 최적의 해\n",
    "    점화식: dpij = array[i][j] + max(dp[i-1][j-1], dp[i][j-1], dp[i+1][j-1])"
   ]
  },
  {
   "cell_type": "code",
   "execution_count": 27,
   "id": "d4ad0926",
   "metadata": {},
   "outputs": [
    {
     "name": "stdout",
     "output_type": "stream",
     "text": [
      "2\n",
      "3 4\n",
      "1 3 3 2 2 1 4 1 0 6 4 7\n",
      "19\n",
      "4 4\n",
      "1 3 1 5 2 2 4 1 5 0 2 3 0 6 1 2\n",
      "16\n"
     ]
    }
   ],
   "source": [
    "#테스트 케이스 입력\n",
    "for tc in range(int(input())):\n",
    "    #금광 정보 입력\n",
    "    n, m = map(int,input().split())\n",
    "    array = list(map(int,input().split()))\n",
    "    dp = []\n",
    "    index = 0\n",
    "    #2차원 dp 테이블 생성\n",
    "    for i in range(n):\n",
    "        dp.append(array[index : index+m])\n",
    "        index += m\n",
    "    #다이나믹 프로그래밍\n",
    "    for j in range(1,m):\n",
    "        for i in range(n):\n",
    "            #왼쪽 위에서 오는 경우\n",
    "            if i==0: left_up = 0\n",
    "            else: left_up = dp[i-1][j-1]\n",
    "            #왼쪽 아래에서 오는 경우\n",
    "            if i==n-1: left_down = 0\n",
    "            else: left_down = dp[i+1][j-1]\n",
    "            #왼쪽에서 오는 경우\n",
    "            left = dp[i][j-1]\n",
    "            #점화식\n",
    "            dp[i][j] = dp[i][j] + max(left_up,left_down,left)\n",
    "    result = 0\n",
    "    for i in range(n):\n",
    "        result = max(result,dp[i][m-1])\n",
    "    print(result)\n"
   ]
  },
  {
   "cell_type": "code",
   "execution_count": 24,
   "id": "980d0e9a",
   "metadata": {},
   "outputs": [
    {
     "name": "stdout",
     "output_type": "stream",
     "text": [
      "3 4\n",
      "1 2 3 4 5 6 7 8 9 10 11 12\n",
      "[[1, 2, 3, 4], [5, 6, 7, 8], [9, 10, 11, 12]]\n"
     ]
    }
   ],
   "source": [
    "# 2차원 배열 입력받기\n",
    "n,m = map(int,input().split())\n",
    "array = list(map(int,input().split()))\n",
    "dp = []\n",
    "index = 0\n",
    "for i in range(n):\n",
    "    dp.append(array[index:index+m])\n",
    "    index += m\n",
    "\n",
    "print(dp)"
   ]
  },
  {
   "cell_type": "markdown",
   "id": "743cd76a",
   "metadata": {},
   "source": [
    "## 병사 배치하기 문제\n",
    "전투력에 따라 내림차순 배치. 배치 과정에서는 병사를 열외시키는 방법을 사용. 병사의 수를 최대로 만들 때 열외시켜야하는 병사의 수를 구하는 문제"
   ]
  },
  {
   "cell_type": "markdown",
   "id": "0bfa0e84",
   "metadata": {},
   "source": [
    "### LIS(Longesest Increasing Subsequence): 증가하는 가장 긴 부분 수열\n",
    "    array = {4,2,5,8,4,11,15} -> {4,5,8,11,15}\n",
    "    D[i] = array[i]를 마지막 원소로 가지는 부분 수열의 최대 길이\n",
    "    점화식:0>=j<i일 때 D[i] = max(D[i],D[j]+1) ... if array[j] < array[i]\n",
    "#### 병사 배치하기 문제는 LIS 알고리즘을 감소하는으로 수정하여 풂\n",
    "    병사 정보 순서를 뒤집은 다음에 LIS 알고리즘 사용 "
   ]
  },
  {
   "cell_type": "code",
   "execution_count": 2,
   "id": "617311d1",
   "metadata": {},
   "outputs": [
    {
     "name": "stdout",
     "output_type": "stream",
     "text": [
      "7\n",
      "15 11 4 8 5 2 4\n",
      "2\n"
     ]
    }
   ],
   "source": [
    "# 병사의 수 입력 받기\n",
    "n = int(input())\n",
    "# 병사의 전투력 입력 받기\n",
    "array = list(map(int,input().split()))\n",
    "# 전투력 뒤집기\n",
    "array.reverse()\n",
    "#dp 테이블 생성\n",
    "d = [1]*n # 일단 기본적으로 원소 하나하나의 길이가 1이기 때문에 1로 채움\n",
    "#LIS 알고리즘\n",
    "for i in range(1,n):\n",
    "    for j in range(0,i):\n",
    "        if array[j] < array[i]:\n",
    "            d[i] = max(d[i],d[j]+1)\n",
    "            \n",
    "#열외하는 병사의 최소 수 출력\n",
    "result = n - max(d)\n",
    "print(result)"
   ]
  },
  {
   "cell_type": "code",
   "execution_count": null,
   "id": "17defa10",
   "metadata": {},
   "outputs": [],
   "source": []
  },
  {
   "cell_type": "code",
   "execution_count": null,
   "id": "c50a94bc",
   "metadata": {},
   "outputs": [],
   "source": []
  },
  {
   "cell_type": "code",
   "execution_count": null,
   "id": "6b3bc271",
   "metadata": {},
   "outputs": [],
   "source": []
  }
 ],
 "metadata": {
  "kernelspec": {
   "display_name": "Python 3 (ipykernel)",
   "language": "python",
   "name": "python3"
  },
  "language_info": {
   "codemirror_mode": {
    "name": "ipython",
    "version": 3
   },
   "file_extension": ".py",
   "mimetype": "text/x-python",
   "name": "python",
   "nbconvert_exporter": "python",
   "pygments_lexer": "ipython3",
   "version": "3.9.7"
  }
 },
 "nbformat": 4,
 "nbformat_minor": 5
}
