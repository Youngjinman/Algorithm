{
 "cells": [
  {
   "cell_type": "markdown",
   "id": "a4f9d59b",
   "metadata": {},
   "source": [
    "# 선택 정렬\n",
    "## 시간복잡도 O(n^2)"
   ]
  },
  {
   "cell_type": "code",
   "execution_count": 2,
   "id": "36af56a7",
   "metadata": {},
   "outputs": [
    {
     "name": "stdout",
     "output_type": "stream",
     "text": [
      "[-1, 0, 1, 2, 3, 4, 5, 54]\n"
     ]
    }
   ],
   "source": [
    "array = [2,5,54,1,-1,0,4,3]\n",
    "\n",
    "for i in range(len(array)):\n",
    "    min_index = i\n",
    "    for j in range(i+1,len(array)):\n",
    "        #더 작은 원소가 있다면\n",
    "        if array[min_index] > array[j]:\n",
    "            min_index = j\n",
    "    #j 다 돌리고 스와프\n",
    "    array[i], array[min_index] = array[min_index], array[i]\n",
    "    \n",
    "print(array)"
   ]
  },
  {
   "cell_type": "markdown",
   "id": "30a1c15f",
   "metadata": {},
   "source": [
    "# 삽입 정렬\n",
    "## 시간복잡도 O(n^2), 최선의 경우 O(n) (이미 리스트가 거의 정렬되어있는 경우)"
   ]
  },
  {
   "cell_type": "code",
   "execution_count": 8,
   "id": "fc7b4b2f",
   "metadata": {},
   "outputs": [
    {
     "name": "stdout",
     "output_type": "stream",
     "text": [
      "[-1, 0, 1, 2, 3, 4, 5, 54]\n"
     ]
    }
   ],
   "source": [
    "array = [2,5,54,1,-1,0,4,3]\n",
    "\n",
    "for i in range(1,len(array)): \n",
    "    for j in range(i,0,-1): #인덱스 i부터 0까지 1씩 감소하며 움직임\n",
    "        if array[j] < array[j-1]: #이전 원소보다 작다면\n",
    "            array[j-1], array[j] = array[j], array[j-1] #스왑\n",
    "        else: # 자기보다 작은 데이터 만나면 i루프로 간다\n",
    "            break\n",
    "print(array)"
   ]
  },
  {
   "cell_type": "markdown",
   "id": "4be25094",
   "metadata": {},
   "source": [
    "# 퀵 정렬\n",
    "## 시간복잡도 O(nlogn), 최악의 경우 O(n^2)"
   ]
  },
  {
   "cell_type": "code",
   "execution_count": 11,
   "id": "a205bcbd",
   "metadata": {},
   "outputs": [
    {
     "name": "stdout",
     "output_type": "stream",
     "text": [
      "[-1, 0, 1, 2, 3, 4, 5, 54]\n"
     ]
    }
   ],
   "source": [
    "array = [2,5,54,1,-1,0,4,3]\n",
    "\n",
    "def quick_sort(array, start, end):\n",
    "    #원소가 하나일 때\n",
    "    if start >= end:\n",
    "        return\n",
    "    #첫번째 원소 피벗 설정\n",
    "    pivot = start\n",
    "    left = start + 1\n",
    "    right = end\n",
    "    #엇갈릴 때까지 수행\n",
    "    while(left <= right):\n",
    "        #피벗보다 큰 데이터 찾을 때까지 left 이동\n",
    "        while(left <= end and array[left] <= array[pivot]):\n",
    "            left += 1\n",
    "        #피벗보다 작은 데이터 찾을 때까지 right 이동\n",
    "        while(right > start and array[right] >= array[pivot]):\n",
    "            right -= 1\n",
    "        #엇갈렸을 때 작은 데이터와 피벗 교체\n",
    "        if(left > right):\n",
    "            array[pivot], array[right] = array[right], array[pivot]\n",
    "        #엇갈리지 않았다면 작은 데이터와 큰 데이터 교체\n",
    "        else:\n",
    "            array[right], array[left] = array[left], array[right]\n",
    "    \n",
    "    quick_sort(array,start,right-1)\n",
    "    quick_sort(array,right+1,end)\n",
    "    \n",
    "quick_sort(array,0,len(array)-1)\n",
    "print(array)"
   ]
  },
  {
   "cell_type": "markdown",
   "id": "ec5ba2c2",
   "metadata": {},
   "source": [
    "## 파이썬의 리스트 컴프리헨션을 이용한 퀵 정렬"
   ]
  },
  {
   "cell_type": "code",
   "execution_count": 17,
   "id": "11a0a9a5",
   "metadata": {},
   "outputs": [
    {
     "name": "stdout",
     "output_type": "stream",
     "text": [
      "[-1, 0, 1, 2, 3, 4, 5, 54]\n"
     ]
    }
   ],
   "source": [
    "array = [2,5,54,1,-1,0,4,3]\n",
    "\n",
    "def quick_sort(array):\n",
    "    if len(array) <= 1:\n",
    "        return array\n",
    "    pivot = array[0]\n",
    "    tail = array[1:]\n",
    "    \n",
    "    left_side = [x for x in tail if x <= pivot] #분할된 왼쪽 부분\n",
    "    right_side = [x for x in tail if x > pivot] #분할된 오른쪽 부분\n",
    "    \n",
    "    return quick_sort(left_side) + [pivot] + quick_sort(right_side)\n",
    "\n",
    "print(quick_sort(array))    "
   ]
  },
  {
   "cell_type": "markdown",
   "id": "4cfdaa07",
   "metadata": {},
   "source": [
    "# 계수 정렬 (데이터의 크기 범위가 제한되어 있을 때 사용)\n",
    "## 데이터의 최대값이 k일때 최악의 경우에도 시간복잡도 O(n + k)\n",
    "### 정해진 범위 내에서 똑같은 값을 지닌 데이터가 여러개일 때 사용하면 효율적"
   ]
  },
  {
   "cell_type": "code",
   "execution_count": 20,
   "id": "7f29ef90",
   "metadata": {},
   "outputs": [
    {
     "name": "stdout",
     "output_type": "stream",
     "text": [
      "0 1 2 3 4 5 6 7 7 8 9 9 9 "
     ]
    }
   ],
   "source": [
    "array = [7,5,9,0,1,9,2,3,9,8,4,6,7]\n",
    "\n",
    "count = [0]*(max(array)+1)\n",
    "\n",
    "for i in range(len(array)):\n",
    "    count[array[i]] += 1 #count = [1,1,1,1,1,1,1,2,1,3]\n",
    "\n",
    "for i in range(len(count)): #0~9 최댓값인 k=9\n",
    "    for j in range(count[i]): #i를 count[i]번 출력\n",
    "        print(i, end=' ')"
   ]
  },
  {
   "cell_type": "markdown",
   "id": "b6830e3e",
   "metadata": {},
   "source": [
    "## 두 배열의 원소 교체 (바꿔치기 k번)"
   ]
  },
  {
   "cell_type": "code",
   "execution_count": 29,
   "id": "4cc965ca",
   "metadata": {},
   "outputs": [
    {
     "name": "stdout",
     "output_type": "stream",
     "text": [
      "5 3\n",
      "1 2 5 4 3\n",
      "5 5 6 6 5\n",
      "26\n"
     ]
    }
   ],
   "source": [
    "n, k = map(int,input().split())\n",
    "array_a = list(map(int,input().split()))\n",
    "array_b = list(map(int,input().split()))\n",
    "\n",
    "array_a.sort()\n",
    "array_b.sort(reverse = True)\n",
    "\n",
    "for i in range(k):\n",
    "    if array_a[i] < array_b[i]:\n",
    "        array_a[i], array_b[i] = array_b[i], array_a[i]\n",
    "    else:\n",
    "        break\n",
    "print(sum(array_a))"
   ]
  },
  {
   "cell_type": "code",
   "execution_count": null,
   "id": "b005e172",
   "metadata": {},
   "outputs": [],
   "source": []
  },
  {
   "cell_type": "code",
   "execution_count": null,
   "id": "cb2ee87c",
   "metadata": {},
   "outputs": [],
   "source": []
  },
  {
   "cell_type": "code",
   "execution_count": null,
   "id": "c0d4e294",
   "metadata": {},
   "outputs": [],
   "source": []
  }
 ],
 "metadata": {
  "kernelspec": {
   "display_name": "Python 3 (ipykernel)",
   "language": "python",
   "name": "python3"
  },
  "language_info": {
   "codemirror_mode": {
    "name": "ipython",
    "version": 3
   },
   "file_extension": ".py",
   "mimetype": "text/x-python",
   "name": "python",
   "nbconvert_exporter": "python",
   "pygments_lexer": "ipython3",
   "version": "3.9.7"
  }
 },
 "nbformat": 4,
 "nbformat_minor": 5
}
