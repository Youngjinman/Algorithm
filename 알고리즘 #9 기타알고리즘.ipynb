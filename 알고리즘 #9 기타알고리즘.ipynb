{
 "cells": [
  {
   "cell_type": "markdown",
   "id": "73025598",
   "metadata": {},
   "source": [
    "## 소수 판별 알고리즘\n",
    "    직관적으로 생각: 자연수 X에 대해 2부터 X까지 나눠보며 끝까지 나눠떨어지지 않으면 소수라고 판별 -> 시간복잡도 O(X)\n",
    "    자연수의 약수는 가운데를 두고 대칭적임 16 = 1 2 4 8 16 => 2를 확인하나 8을 확인하나 똑같음\n",
    "    따라서 가운데 약수(제곱근)까지만 확인하면 됨 -> 시간복잡도 O(X^1/2)"
   ]
  },
  {
   "cell_type": "code",
   "execution_count": 6,
   "id": "f8619fd1",
   "metadata": {},
   "outputs": [
    {
     "name": "stdout",
     "output_type": "stream",
     "text": [
      "True\n",
      "False\n"
     ]
    }
   ],
   "source": [
    "import math\n",
    "def is_prime_number(x):\n",
    "    for i in range(2, int(math.sqrt(x))+1):\n",
    "        if x % i == 0:\n",
    "            return False\n",
    "    return True\n",
    "print(is_prime_number(7))\n",
    "print(is_prime_number(12))"
   ]
  },
  {
   "cell_type": "markdown",
   "id": "d6f0352c",
   "metadata": {},
   "source": [
    "## 에라토스테네스의 체 알고리즘\n",
    "    특정 자연수까지 소수가 무엇이 있는지 확인하는 알고리즘\n",
    "    2부터 자연수x까지 나열하고 남은 수 중에서 가장 작은 i에서 i를 제외한 i의 배수를 모두 제거한다. x의 제곱근까지만 실행."
   ]
  },
  {
   "cell_type": "code",
   "execution_count": 21,
   "id": "b7cdd9c0",
   "metadata": {},
   "outputs": [
    {
     "name": "stdout",
     "output_type": "stream",
     "text": [
      "2, 3, 5, 7, 11, 13, 17, 19, 23, 29, 31, 37, 41, 43, 47, 53, 59, 61, 67, 71, 73, 79, 83, 89, 97, 101, 103, 107, 109, 113, 127, 131, 137, 139, 149, 151, 157, 163, 167, 173, 179, 181, 191, 193, 197, 199, 211, 223, 227, 229, 233, 239, 241, 251, 257, 263, 269, 271, 277, 281, 283, 293, 307, 311, 313, 317, 331, 337, 347, 349, 353, 359, 367, 373, 379, 383, 389, 397, 401, 409, 419, 421, 431, 433, 439, 443, 449, 457, 461, 463, 467, 479, 487, 491, 499, 503, 509, 521, 523, 541, 547, 557, 563, 569, 571, 577, 587, 593, 599, 601, 607, 613, 617, 619, 631, 641, 643, 647, 653, 659, 661, 673, 677, 683, 691, 701, 709, 719, 727, 733, 739, 743, 751, 757, 761, 769, 773, 787, 797, 809, 811, 821, 823, 827, 829, 839, 853, 857, 859, 863, 877, 881, 883, 887, 907, 911, 919, 929, 937, 941, 947, 953, 967, 971, 977, 983, 991, 997, "
     ]
    }
   ],
   "source": [
    "def show_prime_number(x):\n",
    "    #x까지 자연수 모두 true(소수)인 table생성\n",
    "    arr = [True for _ in range(x+1)]\n",
    "    #2부터 루트x까지 확인\n",
    "    for i in range(2,int(math.sqrt(x))+1):\n",
    "        # i가 소수일 때만 그 배수들 제거(False)\n",
    "        if arr[i]==True:\n",
    "            j=2\n",
    "            while(i*j<=x):\n",
    "                arr[i*j]=False\n",
    "                j+=1\n",
    "    for i in range(2,len(arr)):\n",
    "        if arr[i]:\n",
    "            print(i, end=', ')\n",
    "show_prime_number(1000)"
   ]
  },
  {
   "cell_type": "markdown",
   "id": "c6950e60",
   "metadata": {},
   "source": [
    "위의 에라토스테네스의 체 알고리즘은 시간복잡도가 O(NloglogN)으로 거의 선형 시간복잡도이지만, 자연수x까지를 담을 메모리가 필요하다. 따라서 x가 지나치게 커지면 공간복잡도가 너무 높아짐을 알아야함."
   ]
  },
  {
   "cell_type": "markdown",
   "id": "d9de84a1",
   "metadata": {},
   "source": [
    "# 투포인터\n",
    "## 특정한 합을 가지는 부분 연속 수열 찾기 -> 시간복잡도 O(n)으로 제한\n",
    "    ex) 12325에서 합이 5찾기 -> 23,32,5\n",
    "    start와 end모두 index 0을 가리키도록 설정\n",
    "    현재 부분합이 특정값 m보다 작다면 end를 1증가\n",
    "    현재 부분합이 특정값 m보다 크거나 같다면 start를 1증가\n",
    "    모든 경우를 확인할 때까지 반복\n",
    "    합이 m이 나올때마다 count up"
   ]
  },
  {
   "cell_type": "code",
   "execution_count": 24,
   "id": "7e8e9a40",
   "metadata": {},
   "outputs": [
    {
     "name": "stdout",
     "output_type": "stream",
     "text": [
      "3\n"
     ]
    }
   ],
   "source": [
    "#데이터의 개수n\n",
    "#찾고자하는 합m\n",
    "n=5\n",
    "m=5\n",
    "data = [1,2,3,2,5]\n",
    "#부분합이 m이 될때마다 셀 카운드\n",
    "count = 0 \n",
    "interval_sum = 0\n",
    "end = 0\n",
    "\n",
    "#start를 하나씩 증가\n",
    "for start in range(n):\n",
    "    #부분합이 m보다 작을 때\n",
    "    while interval_sum < m and end < n:\n",
    "        interval_sum += data[end]\n",
    "        end += 1\n",
    "    #부분합이 m일때\n",
    "    if interval_sum == m:\n",
    "        count+=1\n",
    "    #부분합이 m보다 크거나 같으면 부분합에서 start가 가리키는 값 빼고 start증가하러 감\n",
    "    interval_sum -= data[start]\n",
    "\n",
    "print(count)\n",
    "\n"
   ]
  },
  {
   "cell_type": "markdown",
   "id": "8591c367",
   "metadata": {},
   "source": [
    "## 구간합 빠르게 계산하기 -> 시간복잡도 O(n+m)으로 제한\n",
    "    n개의 정수로 이루어진 수열존재\n",
    "    m개의 쿼리 정보 주어지는데, 쿼리는 [left,right]으로 주어짐\n",
    "    각 쿼리에 대하여 수열에서 left부터 right까지의 정수 합을 구해야함\n",
    "\n",
    "    접두사 합: 배열의 맨 앞부터 특정 위치까지의 합을 미리 구해놓은 것(O(n)만큼 걸림)\n",
    "    접두사 합을 구하여 배열 P에 저장 -> P(right) - P(left-1)을 구하면 됨 (쿼리가 m개 주어짐->O(n+m))"
   ]
  },
  {
   "cell_type": "code",
   "execution_count": 28,
   "id": "62515740",
   "metadata": {},
   "outputs": [
    {
     "name": "stdout",
     "output_type": "stream",
     "text": [
      "120\n"
     ]
    }
   ],
   "source": [
    "data = [10,20,30,40,50,60,70]\n",
    "\n",
    "sum_arr = [0]\n",
    "sum_value = 0\n",
    "\n",
    "for i in data:\n",
    "    sum_value += i\n",
    "    sum_arr.append(sum_value)\n",
    "\n",
    "\n",
    "left = 3\n",
    "right = 5 #쿼리 개수 m 1이라고 가정\n",
    "print(sum_arr[right] - sum_arr[left-1])"
   ]
  }
 ],
 "metadata": {
  "interpreter": {
   "hash": "7a5abe4f29a809acdc506f603fbc296f951feb9e596b98a49148553f8c145496"
  },
  "kernelspec": {
   "display_name": "Python 3.9.7 ('py39')",
   "language": "python",
   "name": "python3"
  },
  "language_info": {
   "codemirror_mode": {
    "name": "ipython",
    "version": 3
   },
   "file_extension": ".py",
   "mimetype": "text/x-python",
   "name": "python",
   "nbconvert_exporter": "python",
   "pygments_lexer": "ipython3",
   "version": "3.9.7"
  }
 },
 "nbformat": 4,
 "nbformat_minor": 5
}
