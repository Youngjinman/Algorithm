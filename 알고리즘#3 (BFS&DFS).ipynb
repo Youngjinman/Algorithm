{
 "cells": [
  {
   "cell_type": "markdown",
   "id": "866803d3",
   "metadata": {},
   "source": [
    "# DFS/BFS"
   ]
  },
  {
   "cell_type": "markdown",
   "id": "305a9ffc",
   "metadata": {},
   "source": [
    "### stack"
   ]
  },
  {
   "cell_type": "code",
   "execution_count": 4,
   "id": "396868c3",
   "metadata": {},
   "outputs": [
    {
     "name": "stdout",
     "output_type": "stream",
     "text": [
      "[7, 3, 2, 5]\n",
      "[5, 2, 3, 7]\n"
     ]
    }
   ],
   "source": [
    "stack = []\n",
    "stack.append(5)\n",
    "stack.append(2)\n",
    "stack.append(3)\n",
    "stack.append(1)\n",
    "stack.pop()\n",
    "stack.append(7)\n",
    "stack.append(9)\n",
    "stack.pop()\n",
    "#스택 연산들 시간복잡도: O(1)\n",
    "\n",
    "print(stack[::-1]) #최상단 원소부터 출력\n",
    "print(stack) #최하단 원소부터 출력"
   ]
  },
  {
   "cell_type": "markdown",
   "id": "addc38c8",
   "metadata": {},
   "source": [
    "### queue"
   ]
  },
  {
   "cell_type": "code",
   "execution_count": 7,
   "id": "76fb448d",
   "metadata": {},
   "outputs": [
    {
     "name": "stdout",
     "output_type": "stream",
     "text": [
      "deque([3, 1, 7, 9])\n",
      "deque([9, 7, 1, 3])\n"
     ]
    }
   ],
   "source": [
    "from collections import deque\n",
    "\n",
    "queue = deque()\n",
    "queue.append(5)\n",
    "queue.append(2)\n",
    "queue.append(3)\n",
    "queue.append(1)\n",
    "queue.popleft()\n",
    "queue.append(7)\n",
    "queue.append(9)\n",
    "queue.popleft()\n",
    "#큐 연산들 시간복잡도: O(1)\n",
    "\n",
    "print(queue) #먼저 들어온 순서대로 출력\n",
    "queue.reverse()\n",
    "print(queue) #나중에 들어온 순서대로 출력"
   ]
  },
  {
   "cell_type": "markdown",
   "id": "a6791ea6",
   "metadata": {},
   "source": [
    "## 재귀 함수"
   ]
  },
  {
   "cell_type": "code",
   "execution_count": 9,
   "id": "b9e7f350",
   "metadata": {},
   "outputs": [
    {
     "name": "stdout",
     "output_type": "stream",
     "text": [
      "1 번째 재귀함수를 호출\n",
      "2 번째 재귀함수를 호출\n",
      "3 번째 재귀함수를 호출\n",
      "4 번째 재귀함수를 호출\n",
      "5 번째 재귀함수를 호출\n",
      "6 번째 재귀함수를 호출\n",
      "7 번째 재귀함수를 호출\n",
      "8 번째 재귀함수를 호출\n",
      "9 번째 재귀함수를 호출\n",
      "9 번째 재귀함수를 종료\n",
      "8 번째 재귀함수를 종료\n",
      "7 번째 재귀함수를 종료\n",
      "6 번째 재귀함수를 종료\n",
      "5 번째 재귀함수를 종료\n",
      "4 번째 재귀함수를 종료\n",
      "3 번째 재귀함수를 종료\n",
      "2 번째 재귀함수를 종료\n",
      "1 번째 재귀함수를 종료\n"
     ]
    }
   ],
   "source": [
    "def recursive_method(i):\n",
    "    if i == 10:\n",
    "        return\n",
    "    print(i,'번째 재귀함수를 호출')\n",
    "    recursive_method(i+1)\n",
    "    print(i,'번째 재귀함수를 종료')\n",
    "    #각 재귀함수들이 stack frame에 담김\n",
    "recursive_method(1)"
   ]
  },
  {
   "cell_type": "markdown",
   "id": "7e7a86b1",
   "metadata": {},
   "source": [
    "### 팩토리얼 구현"
   ]
  },
  {
   "cell_type": "code",
   "execution_count": 14,
   "id": "98388322",
   "metadata": {},
   "outputs": [
    {
     "name": "stdout",
     "output_type": "stream",
     "text": [
      "반복기법으로 출력: 120\n",
      "재귀기법으로 출력: 120\n"
     ]
    }
   ],
   "source": [
    "def factorial_iterative(n): #반복문\n",
    "    result = 1\n",
    "    for i in range(1,n+1):\n",
    "        result *= i\n",
    "    return result\n",
    "\n",
    "def factorial_recursive(n): #재귀함수\n",
    "    if n<=1:\n",
    "        return 1\n",
    "    else:\n",
    "        return n * factorial_recursive(n-1)\n",
    "print('반복기법으로 출력:',factorial_iterative(5))\n",
    "print('재귀기법으로 출력:',factorial_recursive(5))"
   ]
  },
  {
   "cell_type": "markdown",
   "id": "9cce05a2",
   "metadata": {},
   "source": [
    "### 유클리드 호제법\n",
    "(A>B) A를 B로 나눈 나머지 R,\n",
    "A와 B의 최대공약수 = B와 R의 최대공약수"
   ]
  },
  {
   "cell_type": "code",
   "execution_count": 18,
   "id": "20d03a45",
   "metadata": {},
   "outputs": [
    {
     "name": "stdout",
     "output_type": "stream",
     "text": [
      "6\n"
     ]
    }
   ],
   "source": [
    "def gcd(a,b):\n",
    "    if a%b==0:\n",
    "        return b\n",
    "    else:\n",
    "        return gcd(b,a%b) #유클리드 호제법을 재귀로 구현\n",
    "\n",
    "print(gcd(192,162))"
   ]
  },
  {
   "cell_type": "markdown",
   "id": "dfe27015",
   "metadata": {},
   "source": [
    "# DFS(깊이 우선 탐색) 스택 구조"
   ]
  },
  {
   "cell_type": "code",
   "execution_count": 21,
   "id": "80e54ea1",
   "metadata": {},
   "outputs": [
    {
     "name": "stdout",
     "output_type": "stream",
     "text": [
      "1 2 7 6 8 3 4 5 "
     ]
    }
   ],
   "source": [
    "def dfs(graph,v,visited):\n",
    "    visited[v] = True\n",
    "    print(v, end=' ')\n",
    "    for i in graph[v]:\n",
    "        if visited[i] == False:\n",
    "            dfs(graph,i,visited)\n",
    "            \n",
    "#각 노드가 연결된 정보를 표현(0번째 노드는 없어서 빈 리스트)            \n",
    "graph = [\n",
    "    [],\n",
    "    [2,3,8],\n",
    "    [1,7],\n",
    "    [1,4,5],\n",
    "    [3,5],\n",
    "    [3,4],\n",
    "    [7],\n",
    "    [2,6,8],\n",
    "    [1,7]\n",
    "]\n",
    "\n",
    "#각 노드가 방문된 정보를 표현\n",
    "visited = [False]*9\n",
    "\n",
    "#정의된 DFS 함수 호출\n",
    "dfs(graph,1,visited)\n"
   ]
  },
  {
   "cell_type": "markdown",
   "id": "5f11487e",
   "metadata": {},
   "source": [
    "# BFS(너비 우선 탐색) 큐 구조"
   ]
  },
  {
   "cell_type": "code",
   "execution_count": 22,
   "id": "4c5267ed",
   "metadata": {},
   "outputs": [
    {
     "name": "stdout",
     "output_type": "stream",
     "text": [
      "1 2 3 8 7 4 5 6 "
     ]
    }
   ],
   "source": [
    "from collections import deque\n",
    "\n",
    "def bfs(graph,start,visited):\n",
    "    queue = deque([start])\n",
    "    visited[start] = True\n",
    "    #큐에 원소가 남아있는 동안 실행\n",
    "    while queue:\n",
    "        v = queue.popleft()\n",
    "        print(v,end=' ')\n",
    "        for i in graph[v]:\n",
    "            if not visited[i]:\n",
    "                queue.append(i)\n",
    "                visited[i] = True\n",
    "                \n",
    "graph = [\n",
    "    [],\n",
    "    [2,3,8],\n",
    "    [1,7],\n",
    "    [1,4,5],\n",
    "    [3,5],\n",
    "    [3,4],\n",
    "    [7],\n",
    "    [2,6,8],\n",
    "    [1,7]\n",
    "]\n",
    "\n",
    "#각 노드가 방문된 정보를 표현\n",
    "visited = [False]*9\n",
    "\n",
    "#정의된 DFS 함수 호출\n",
    "bfs(graph,1,visited)"
   ]
  },
  {
   "cell_type": "markdown",
   "id": "96b545f0",
   "metadata": {},
   "source": [
    "## 음료수 얼려먹기 문제 (2차원 리스트에서 0 덩어리 개수 세기)\n",
    "dfs 사용"
   ]
  },
  {
   "cell_type": "code",
   "execution_count": null,
   "id": "0ee55b81",
   "metadata": {},
   "outputs": [
    {
     "name": "stdout",
     "output_type": "stream",
     "text": [
      "4 4\n",
      "0101\n",
      "1111\n",
      "0000\n",
      "0010\n"
     ]
    }
   ],
   "source": [
    "def dfs(x,y):\n",
    "    if x<=-1 or x>=n or y<=-1 or y>=m:\n",
    "        return False\n",
    "    if graph[x][y] == 0:\n",
    "        graph[x][y]=1\n",
    "        dfs(x-1,y)\n",
    "        dfs(x,y-1)\n",
    "        dfs(x+1,y)\n",
    "            dfs(x,y+1)\n",
    "            return True\n",
    "    else:\n",
    "        return False\n",
    "    \n",
    "#2차원 리스트의 행,열 입력받기\n",
    "n,m = map(int,input().split())\n",
    "#0이나 1을 채운 2차원 리스트 만들기\n",
    "graph = []\n",
    "for i in range(n):\n",
    "    graph.append(list(map(int,input())))\n",
    "#0덩어리를 셀 result 생성\n",
    "result = 0\n",
    "for i in range(n):\n",
    "    for j in range(m):\n",
    "        if dfs(i,j) == True:\n",
    "            result += 1\n",
    "            \n",
    "print(result)"
   ]
  },
  {
   "cell_type": "markdown",
   "id": "921c0e6f",
   "metadata": {},
   "source": [
    "## 미로찾기 문제(0이 괴물, 1이 길) -> 0,0좌표에서 n,m좌표로 도착\n",
    "## 움직여야 하는 최소 칸의 개수 구하기\n",
    "### BFS: 간선의 길이가 같을 때 최단거리 탐색에 쓰임"
   ]
  },
  {
   "cell_type": "code",
   "execution_count": 18,
   "id": "1222d000",
   "metadata": {},
   "outputs": [
    {
     "name": "stdout",
     "output_type": "stream",
     "text": [
      "3 3\n",
      "100\n",
      "111\n",
      "111\n",
      "5\n"
     ]
    }
   ],
   "source": [
    "from collections import deque\n",
    "\n",
    "def bfs(x,y):\n",
    "    queue = deque()\n",
    "    queue.append((x,y))\n",
    "    \n",
    "    while queue:\n",
    "        x, y = queue.popleft() #처음에 0,0\n",
    "        for i in range(4):\n",
    "            nx = x + dx[i]\n",
    "            ny = y + dy[i]\n",
    "            #처음부터 괴물 나왔을 때\n",
    "            if maze[0][0] == 0:\n",
    "                return False\n",
    "            #벽이 막혀있을 때\n",
    "            if nx < 0 or nx >= n or ny < 0 or ny >= m:\n",
    "                continue\n",
    "            #괴물 만났을 때\n",
    "            if maze[nx][ny] == 0:\n",
    "                continue\n",
    "            #길이 뚫려있다면 원래의 값에서 1더함\n",
    "            if maze[nx][ny] == 1:\n",
    "                maze[nx][ny] = maze[x][y] + 1\n",
    "                queue.append((nx,ny))\n",
    "    return maze[n-1][m-1]\n",
    "        \n",
    "\n",
    "#n.m입력\n",
    "n, m = map(int,input().split())\n",
    "#미로 생성\n",
    "maze = []\n",
    "for i in range(n):\n",
    "    maze.append(list(map(int,input())))\n",
    "#상하좌우\n",
    "dx = [-1,1,0,0]\n",
    "dy = [0,0,-1,1]\n",
    "\n",
    "print(bfs(0,0))"
   ]
  }
 ],
 "metadata": {
  "kernelspec": {
   "display_name": "Python 3 (ipykernel)",
   "language": "python",
   "name": "python3"
  },
  "language_info": {
   "codemirror_mode": {
    "name": "ipython",
    "version": 3
   },
   "file_extension": ".py",
   "mimetype": "text/x-python",
   "name": "python",
   "nbconvert_exporter": "python",
   "pygments_lexer": "ipython3",
   "version": "3.9.7"
  }
 },
 "nbformat": 4,
 "nbformat_minor": 5
}
