{
 "cells": [
  {
   "cell_type": "markdown",
   "id": "9d7cee0e",
   "metadata": {},
   "source": [
    "# 그리디 알고리즘"
   ]
  },
  {
   "cell_type": "markdown",
   "id": "ebf0a70f",
   "metadata": {},
   "source": [
    "## 거스름돈 문제"
   ]
  },
  {
   "cell_type": "code",
   "execution_count": null,
   "id": "43a02d15",
   "metadata": {},
   "outputs": [],
   "source": [
    "n = 1260 #총 금액\n",
    "count = 0 #거스름돈 개수\n",
    "array = [500,100,50,10] \n",
    "\n",
    "for coin in array: #큰 단위 화폐부터 차례대로 확인\n",
    "    count += n/coin \n",
    "    n %= coin\n",
    "print(count)"
   ]
  },
  {
   "cell_type": "markdown",
   "id": "ab6b5639",
   "metadata": {},
   "source": [
    "###### 시간복잡도: O(K) ---> K는 화폐 종류의 개수"
   ]
  },
  {
   "cell_type": "markdown",
   "id": "b4e095f2",
   "metadata": {},
   "source": [
    "## 1이 될 때까지 문제"
   ]
  },
  {
   "cell_type": "code",
   "execution_count": 9,
   "id": "9d8db56e",
   "metadata": {},
   "outputs": [
    {
     "name": "stdout",
     "output_type": "stream",
     "text": [
      "23 6\n",
      "8\n"
     ]
    }
   ],
   "source": [
    "n, k = map(int,input().split())\n",
    "result = 0\n",
    "\n",
    "while n>1:\n",
    "    if n%k != 0:\n",
    "        n -= 1\n",
    "        result += 1\n",
    "    else: \n",
    "        n /= k\n",
    "        result += 1\n",
    "print(result)"
   ]
  },
  {
   "cell_type": "code",
   "execution_count": 7,
   "id": "3352e86d",
   "metadata": {},
   "outputs": [
    {
     "name": "stdout",
     "output_type": "stream",
     "text": [
      "25 5\n",
      "2\n"
     ]
    }
   ],
   "source": [
    "#시간복잡도를 줄이기 위한 코드 (k로 나눠떨어지기 위한 n을 한번에 구해버림)\n",
    "n, k = map(int,input().split())\n",
    "result = 0\n",
    "\n",
    "while True:\n",
    "    target = (n//k)*k #나누어 떨어지는 가장 큰 수 구함\n",
    "    result += n-target\n",
    "    n = target\n",
    "    \n",
    "    if n<k:\n",
    "        break\n",
    "    result += 1\n",
    "    n //= k\n",
    "result += n-1\n",
    "print(result)"
   ]
  },
  {
   "cell_type": "markdown",
   "id": "c667ef7b",
   "metadata": {},
   "source": [
    "## 곱하기 또는 더하기 문제"
   ]
  },
  {
   "cell_type": "code",
   "execution_count": 10,
   "id": "a41edd0d",
   "metadata": {},
   "outputs": [
    {
     "name": "stdout",
     "output_type": "stream",
     "text": [
      "02984\n",
      "576\n"
     ]
    }
   ],
   "source": [
    "data = input()\n",
    "result = int(data[0])\n",
    "\n",
    "for i in range(1,len(data)): #처음 수부터 마지막 수까지 차례대로 0,1 인지 아닌지 구분하여 연산 진행(그리디)\n",
    "        num = int(data[i])\n",
    "        if result<=1 or num<=1:\n",
    "            result += num\n",
    "        else:\n",
    "            result *= num\n",
    "print(result)"
   ]
  },
  {
   "cell_type": "markdown",
   "id": "059d2e4d",
   "metadata": {},
   "source": [
    "### 모험가 길드 문제(공포도보다 높은 팀원 수로 그룹 형성(모두가 그룹에 안 들어가도 된다), 그룹의 최댓값 구하기)"
   ]
  },
  {
   "cell_type": "code",
   "execution_count": 14,
   "id": "a32bcc7a",
   "metadata": {},
   "outputs": [
    {
     "name": "stdout",
     "output_type": "stream",
     "text": [
      "8\n",
      "1 1 2 3 3 3 4 5\n",
      "3\n"
     ]
    }
   ],
   "source": [
    "#그룹에 최소한의 수만 넣어야 그룹의 수가 최대가 됨\n",
    "ad_num = int(input())\n",
    "anxiety = list(map(int, input().split()))\n",
    "result = 0 #그룹의 수\n",
    "count = 0 #현재 그룹의 구성원 수\n",
    "\n",
    "anxiety.sort() #오름차순으로 정렬하여 그룹을 최대한 많이 형성 가능(그리디)\n",
    "for i in anxiety:\n",
    "    count += 1\n",
    "    if count>=i: \n",
    "        result+=1\n",
    "        count = 0\n",
    "        \n",
    "print(result)"
   ]
  },
  {
   "cell_type": "markdown",
   "id": "dbf63a34",
   "metadata": {},
   "source": []
  },
  {
   "cell_type": "markdown",
   "id": "854a6786",
   "metadata": {},
   "source": [
    "# 구현"
   ]
  },
  {
   "cell_type": "markdown",
   "id": "332e4bc8",
   "metadata": {},
   "source": [
    "## 풀이를 떠올리는 것은 쉽지만 소스코드로 옮기기 어려운 문제"
   ]
  },
  {
   "cell_type": "markdown",
   "id": "65f7f6af",
   "metadata": {},
   "source": [
    "### 2차원 행렬"
   ]
  },
  {
   "cell_type": "code",
   "execution_count": 15,
   "id": "8bb3f5c7",
   "metadata": {},
   "outputs": [
    {
     "name": "stdout",
     "output_type": "stream",
     "text": [
      "( 0 , 0 ) ( 0 , 1 ) ( 0 , 2 ) ( 0 , 3 ) ( 0 , 4 ) \n",
      "( 1 , 0 ) ( 1 , 1 ) ( 1 , 2 ) ( 1 , 3 ) ( 1 , 4 ) \n",
      "( 2 , 0 ) ( 2 , 1 ) ( 2 , 2 ) ( 2 , 3 ) ( 2 , 4 ) \n",
      "( 3 , 0 ) ( 3 , 1 ) ( 3 , 2 ) ( 3 , 3 ) ( 3 , 4 ) \n",
      "( 4 , 0 ) ( 4 , 1 ) ( 4 , 2 ) ( 4 , 3 ) ( 4 , 4 ) \n"
     ]
    }
   ],
   "source": [
    "N=5\n",
    "for i in range(N):\n",
    "    for j in range(N):\n",
    "        print('(',i,',',j,')', end=' ')\n",
    "    print()"
   ]
  },
  {
   "cell_type": "markdown",
   "id": "36bae797",
   "metadata": {},
   "source": [
    "### 2차원 공간 방향 벡터"
   ]
  },
  {
   "cell_type": "code",
   "execution_count": 17,
   "id": "20ddc0c9",
   "metadata": {},
   "outputs": [
    {
     "name": "stdout",
     "output_type": "stream",
     "text": [
      "2 3\n",
      "1 2\n",
      "2 1\n",
      "3 2\n"
     ]
    }
   ],
   "source": [
    "#동북서남\n",
    "dx = [0,-1,0,1]\n",
    "dy = [1,0,-1,0]\n",
    "#현재위치\n",
    "x, y = 2, 2\n",
    "\n",
    "for i in range(4):\n",
    "    #다음 위치\n",
    "    nx = x + dx[i]\n",
    "    ny = y + dy[i]\n",
    "    print(nx,ny)"
   ]
  },
  {
   "cell_type": "markdown",
   "id": "b88fc860",
   "metadata": {},
   "source": [
    "## 상하좌우 문제(시뮬레이션 유형)"
   ]
  },
  {
   "cell_type": "code",
   "execution_count": 20,
   "id": "f709d747",
   "metadata": {},
   "outputs": [
    {
     "name": "stdout",
     "output_type": "stream",
     "text": [
      "6\n",
      "R L U D D R\n",
      "1,2\n"
     ]
    }
   ],
   "source": [
    "N = int(input()) # N*N 좌표 내에서\n",
    "plans = input().split() # 방향 입력받기\n",
    "x,y = 1,1\n",
    "#동서북남\n",
    "dx = [0,0,-1,1] \n",
    "dy = [1,-1,0,0]\n",
    "move_steps = ['R','L','U','D']\n",
    "\n",
    "for plan in plans:\n",
    "    for i in range(len(move_steps)):\n",
    "        if plan == move_steps[i]:\n",
    "            nx = x + dx[i]\n",
    "            ny = y + dy[i]\n",
    "    #좌표 이탈시\n",
    "    if x<1 or y<1 or x>N or y>N:\n",
    "        continue\n",
    "print(nx,ny,sep=',')"
   ]
  },
  {
   "cell_type": "markdown",
   "id": "b2111a2b",
   "metadata": {},
   "source": [
    "## 시각 문제(정해진 시간내에 특정 자연수를 포함했을 경우 세기 ex. NN시 00분 00초)"
   ]
  },
  {
   "cell_type": "code",
   "execution_count": 22,
   "id": "586fdc91",
   "metadata": {},
   "outputs": [
    {
     "name": "stdout",
     "output_type": "stream",
     "text": [
      "5\n",
      "3\n",
      "11475\n"
     ]
    }
   ],
   "source": [
    "# 00시 00분 00초부터 n시 59분 59초까지의 모든 시각 중에서 t이 포함되는 모든 경우의 수 출력 (0<=n<=23)\n",
    "# 아이디어 : 단순히 1씩 증가시키며 완전탐색\n",
    "n = int(input()) #n시 입력\n",
    "t = input()\n",
    "count = 0\n",
    "\n",
    "for i in range(n+1):\n",
    "    for j in range(60): #분\n",
    "        for k in range(60): #초\n",
    "            if t in str(i) + str(j) + str(k):\n",
    "                count += 1\n",
    "print(count)"
   ]
  },
  {
   "cell_type": "markdown",
   "id": "64921a6d",
   "metadata": {},
   "source": [
    "## 체스의 나이트 문제"
   ]
  },
  {
   "cell_type": "code",
   "execution_count": 2,
   "id": "53c5a49f",
   "metadata": {},
   "outputs": [
    {
     "name": "stdout",
     "output_type": "stream",
     "text": [
      "a1\n",
      "2\n"
     ]
    }
   ],
   "source": [
    "#행: 1~8, 열: a~h ex) a1\n",
    "#나이트가 특정좌표에서 이동할 수 있는 경우의 수 출력\n",
    "\n",
    "input_data = input()\n",
    "row = int(input_data[1])\n",
    "column = int(ord(input_data[0])) - int(ord('a')) + 1 #열 아스키코드를 정수로 변환\n",
    "\n",
    "\n",
    "steps = [(-2,-1),(-2,1),(-1,-2),(-1,2),(1,-2),(1,2),(2,-1),(2,1)]\n",
    "count = 0\n",
    "for step in steps:\n",
    "    next_row = row + step[0]\n",
    "    next_column = column + step[1]\n",
    "    if 1 <= next_row and next_row <= 8 and 1 <= next_column and next_column <= 8:\n",
    "        count += 1\n",
    "\n",
    "print(count)"
   ]
  },
  {
   "cell_type": "markdown",
   "id": "88eda3d4",
   "metadata": {},
   "source": [
    "## 문자열 재정렬 (문자 오름차순, 숫자는 합산)"
   ]
  },
  {
   "cell_type": "code",
   "execution_count": 22,
   "id": "6ca20169",
   "metadata": {},
   "outputs": [
    {
     "name": "stdout",
     "output_type": "stream",
     "text": [
      "3sdfa45d\n",
      "addfs12\n"
     ]
    }
   ],
   "source": [
    "input_data = input()\n",
    "str_array=[]\n",
    "result = 0\n",
    "for i in input_data:\n",
    "    if i.isalpha():\n",
    "        str_array.append(i)\n",
    "    else:\n",
    "        result += int(i)\n",
    "str_array.sort()\n",
    "str_array.append(str(result)) #리스트과 합산한 수 합치기\n",
    "print(''.join(str_array)) #출력을 위해 리스트를 문자열로 변환"
   ]
  },
  {
   "cell_type": "code",
   "execution_count": 12,
   "id": "20b288f6",
   "metadata": {},
   "outputs": [
    {
     "ename": "AttributeError",
     "evalue": "'str' object has no attribute 'sort'",
     "output_type": "error",
     "traceback": [
      "\u001b[1;31m---------------------------------------------------------------------------\u001b[0m",
      "\u001b[1;31mAttributeError\u001b[0m                            Traceback (most recent call last)",
      "\u001b[1;32m~\\AppData\\Local\\Temp/ipykernel_12748/2875918270.py\u001b[0m in \u001b[0;36m<module>\u001b[1;34m\u001b[0m\n\u001b[0;32m      1\u001b[0m \u001b[0marray\u001b[0m\u001b[1;33m=\u001b[0m\u001b[1;34m'saf'\u001b[0m\u001b[1;33m\u001b[0m\u001b[1;33m\u001b[0m\u001b[0m\n\u001b[1;32m----> 2\u001b[1;33m \u001b[0marray\u001b[0m\u001b[1;33m.\u001b[0m\u001b[0msort\u001b[0m\u001b[1;33m(\u001b[0m\u001b[1;33m)\u001b[0m\u001b[1;33m\u001b[0m\u001b[1;33m\u001b[0m\u001b[0m\n\u001b[0m\u001b[0;32m      3\u001b[0m \u001b[0mprint\u001b[0m\u001b[1;33m(\u001b[0m\u001b[0marray\u001b[0m\u001b[1;33m)\u001b[0m\u001b[1;33m\u001b[0m\u001b[1;33m\u001b[0m\u001b[0m\n",
      "\u001b[1;31mAttributeError\u001b[0m: 'str' object has no attribute 'sort'"
     ]
    }
   ],
   "source": []
  },
  {
   "cell_type": "code",
   "execution_count": null,
   "id": "29d19dba",
   "metadata": {},
   "outputs": [],
   "source": []
  },
  {
   "cell_type": "code",
   "execution_count": null,
   "id": "e12a30b3",
   "metadata": {},
   "outputs": [],
   "source": []
  }
 ],
 "metadata": {
  "kernelspec": {
   "display_name": "Python 3 (ipykernel)",
   "language": "python",
   "name": "python3"
  },
  "language_info": {
   "codemirror_mode": {
    "name": "ipython",
    "version": 3
   },
   "file_extension": ".py",
   "mimetype": "text/x-python",
   "name": "python",
   "nbconvert_exporter": "python",
   "pygments_lexer": "ipython3",
   "version": "3.9.7"
  }
 },
 "nbformat": 4,
 "nbformat_minor": 5
}
