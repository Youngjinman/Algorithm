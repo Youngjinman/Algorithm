{
 "cells": [
  {
   "cell_type": "markdown",
   "id": "fafcdf8a",
   "metadata": {},
   "source": [
    "# 리스트 컴프리핸션"
   ]
  },
  {
   "cell_type": "markdown",
   "id": "605efc59",
   "metadata": {},
   "source": [
    "## M*N 리스트 생성 (2차원)"
   ]
  },
  {
   "cell_type": "code",
   "execution_count": 2,
   "id": "5449752c",
   "metadata": {},
   "outputs": [
    {
     "data": {
      "text/plain": [
       "[[0, 0, 0, 0, 0], [0, 0, 0, 0, 0], [0, 0, 0, 0, 0], [0, 0, 0, 0, 0]]"
      ]
     },
     "execution_count": 2,
     "metadata": {},
     "output_type": "execute_result"
    }
   ],
   "source": [
    "n=4\n",
    "m=5\n",
    "array = [[0]*m for _ in range(n)]\n",
    "array"
   ]
  },
  {
   "cell_type": "markdown",
   "id": "c9cc41eb",
   "metadata": {},
   "source": [
    "## 리스트에서 특정 값을 가지는 원소 제거"
   ]
  },
  {
   "cell_type": "code",
   "execution_count": 2,
   "id": "5ccb38ab",
   "metadata": {},
   "outputs": [
    {
     "name": "stdout",
     "output_type": "stream",
     "text": [
      "[1, 2, 44, 7, 10]\n"
     ]
    }
   ],
   "source": [
    "array=[1,2,3,44,5,5,7,10]\n",
    "remove_set={3,5}\n",
    "\n",
    "result = [i for i in array if i not in remove_set]\n",
    "print(result)"
   ]
  },
  {
   "cell_type": "markdown",
   "id": "976f147b",
   "metadata": {},
   "source": [
    "# 기본 입출력"
   ]
  },
  {
   "cell_type": "markdown",
   "id": "efc832fa",
   "metadata": {},
   "source": [
    "## n개 만큼 입력 받아서 정렬"
   ]
  },
  {
   "cell_type": "code",
   "execution_count": 4,
   "id": "456c755d",
   "metadata": {},
   "outputs": [
    {
     "name": "stdout",
     "output_type": "stream",
     "text": [
      "5\n",
      "1,2,3,4,5\n",
      "[5, 4, 3, 2, 1]\n"
     ]
    }
   ],
   "source": [
    "data_num = int(input()) #입력 개수\n",
    "array = list(map(int,input().split(','))) #입력 내용\n",
    "array_rever = sorted(array, reverse = True) #내림차순 정렬\n",
    "print(array_rever)"
   ]
  },
  {
   "cell_type": "markdown",
   "id": "5cdf3b0d",
   "metadata": {},
   "source": [
    "## 빠르게 입력받기"
   ]
  },
  {
   "cell_type": "code",
   "execution_count": 27,
   "id": "0e8fd4e9",
   "metadata": {},
   "outputs": [],
   "source": [
    "import sys\n",
    "data = sys.stdin.readline().rstrip() #개행문자 제거까지"
   ]
  },
  {
   "cell_type": "markdown",
   "id": "ec028420",
   "metadata": {},
   "source": [
    "## f-string"
   ]
  },
  {
   "cell_type": "code",
   "execution_count": 29,
   "id": "6b015535",
   "metadata": {},
   "outputs": [
    {
     "name": "stdout",
     "output_type": "stream",
     "text": [
      "정답은 7입니다\n"
     ]
    }
   ],
   "source": [
    "answer = 7\n",
    "print(f'정답은 {answer}입니다')"
   ]
  },
  {
   "cell_type": "markdown",
   "id": "1b591706",
   "metadata": {},
   "source": [
    "# 반복문"
   ]
  },
  {
   "cell_type": "markdown",
   "id": "de63be63",
   "metadata": {},
   "source": [
    "## 합격한 사람만 출력"
   ]
  },
  {
   "cell_type": "code",
   "execution_count": 48,
   "id": "10091f74",
   "metadata": {},
   "outputs": [
    {
     "name": "stdout",
     "output_type": "stream",
     "text": [
      "95 85 93 100 "
     ]
    }
   ],
   "source": [
    "score = [95,38,75,85,93,100]\n",
    "array = []\n",
    "for i in range(6):\n",
    "    if score[i] >= 80:\n",
    "        print(score[i], end=' ')"
   ]
  },
  {
   "cell_type": "markdown",
   "id": "b5b797b9",
   "metadata": {},
   "source": [
    "## 특정 번호 사람 제외"
   ]
  },
  {
   "cell_type": "code",
   "execution_count": 52,
   "id": "7fb740be",
   "metadata": {},
   "outputs": [
    {
     "name": "stdout",
     "output_type": "stream",
     "text": [
      "95 93 100 "
     ]
    }
   ],
   "source": [
    "score = [95,38,75,85,93,100]\n",
    "remove_num = {2,4}\n",
    "for i in range(6):\n",
    "    if i+1 in remove_num:\n",
    "        continue\n",
    "    elif score[i]>=80:\n",
    "            print(score[i], end=' ')"
   ]
  },
  {
   "cell_type": "markdown",
   "id": "f822ec49",
   "metadata": {},
   "source": [
    "# global: 전역변수를 참조할 때 "
   ]
  },
  {
   "cell_type": "code",
   "execution_count": 56,
   "id": "fa0a4034",
   "metadata": {},
   "outputs": [
    {
     "name": "stdout",
     "output_type": "stream",
     "text": [
      "10\n"
     ]
    }
   ],
   "source": [
    "a = 0\n",
    "\n",
    "def func():\n",
    "    global a #전역변수 a 참조\n",
    "    a += 1\n",
    "    \n",
    "for i in range(10):\n",
    "    func()\n",
    "print(a)"
   ]
  },
  {
   "cell_type": "markdown",
   "id": "c6dd1297",
   "metadata": {},
   "source": [
    "# 람다 표현식 예시"
   ]
  },
  {
   "cell_type": "markdown",
   "id": "42486e6e",
   "metadata": {},
   "source": [
    "## 점수를 기준으로 정렬"
   ]
  },
  {
   "cell_type": "code",
   "execution_count": 62,
   "id": "3995851d",
   "metadata": {},
   "outputs": [
    {
     "name": "stdout",
     "output_type": "stream",
     "text": [
      "[('lee', 95), ('yoon', 80), ('son', 75)]\n"
     ]
    }
   ],
   "source": [
    "student = [('yoon',80),('lee',95),('son',75)]\n",
    "student_sort = sorted(student, key = lambda t : t[1], reverse = True)\n",
    "print(student_sort)"
   ]
  },
  {
   "cell_type": "markdown",
   "id": "f4ae6b54",
   "metadata": {},
   "source": [
    "## 여러 리스트 참조"
   ]
  },
  {
   "cell_type": "code",
   "execution_count": 61,
   "id": "2e35b7ff",
   "metadata": {},
   "outputs": [
    {
     "name": "stdout",
     "output_type": "stream",
     "text": [
      "[5, 37, 86, 36]\n"
     ]
    }
   ],
   "source": [
    "list1 = [5,34,90,12]\n",
    "list2 = [0,3,-4,24]\n",
    "list3 = list(map(lambda a,b: a+b, list1, list2))\n",
    "print(list3)"
   ]
  },
  {
   "cell_type": "markdown",
   "id": "87f4d581",
   "metadata": {},
   "source": [
    "# 순열과 조합"
   ]
  },
  {
   "cell_type": "markdown",
   "id": "0dd5c036",
   "metadata": {},
   "source": [
    "## 순열"
   ]
  },
  {
   "cell_type": "code",
   "execution_count": 64,
   "id": "a57b18c8",
   "metadata": {},
   "outputs": [
    {
     "name": "stdout",
     "output_type": "stream",
     "text": [
      "[('A', 'B', 'C'), ('A', 'B', 'D'), ('A', 'C', 'B'), ('A', 'C', 'D'), ('A', 'D', 'B'), ('A', 'D', 'C'), ('B', 'A', 'C'), ('B', 'A', 'D'), ('B', 'C', 'A'), ('B', 'C', 'D'), ('B', 'D', 'A'), ('B', 'D', 'C'), ('C', 'A', 'B'), ('C', 'A', 'D'), ('C', 'B', 'A'), ('C', 'B', 'D'), ('C', 'D', 'A'), ('C', 'D', 'B'), ('D', 'A', 'B'), ('D', 'A', 'C'), ('D', 'B', 'A'), ('D', 'B', 'C'), ('D', 'C', 'A'), ('D', 'C', 'B')]\n"
     ]
    }
   ],
   "source": [
    "from itertools import permutations\n",
    "\n",
    "data = ['A','B','C','D']\n",
    "result = list(permutations(data,3)) #두 번째 파라미터는 사용할 데이터 개수\n",
    "print(result)"
   ]
  },
  {
   "cell_type": "markdown",
   "id": "984ede96",
   "metadata": {},
   "source": [
    "## 조합"
   ]
  },
  {
   "cell_type": "code",
   "execution_count": 66,
   "id": "332bd51e",
   "metadata": {},
   "outputs": [
    {
     "name": "stdout",
     "output_type": "stream",
     "text": [
      "[('A', 'B', 'C'), ('A', 'B', 'D'), ('A', 'C', 'D'), ('B', 'C', 'D')]\n"
     ]
    }
   ],
   "source": [
    "from itertools import combinations\n",
    "\n",
    "data = ['A','B','C','D']\n",
    "result = list(combinations(data,3))\n",
    "print(result)"
   ]
  },
  {
   "cell_type": "markdown",
   "id": "2b8f4ff8",
   "metadata": {},
   "source": [
    "## 중복 순열"
   ]
  },
  {
   "cell_type": "code",
   "execution_count": 68,
   "id": "1c45ee77",
   "metadata": {},
   "outputs": [
    {
     "name": "stdout",
     "output_type": "stream",
     "text": [
      "[('A', 'A'), ('A', 'B'), ('A', 'C'), ('A', 'D'), ('B', 'A'), ('B', 'B'), ('B', 'C'), ('B', 'D'), ('C', 'A'), ('C', 'B'), ('C', 'C'), ('C', 'D'), ('D', 'A'), ('D', 'B'), ('D', 'C'), ('D', 'D')]\n"
     ]
    }
   ],
   "source": [
    "from itertools import product\n",
    "\n",
    "data = ['A','B','C','D']\n",
    "result = list(product(data,repeat = 2))\n",
    "print(result)"
   ]
  },
  {
   "cell_type": "markdown",
   "id": "7ab72aa9",
   "metadata": {},
   "source": [
    "## 중복 조합"
   ]
  },
  {
   "cell_type": "code",
   "execution_count": 70,
   "id": "8458c943",
   "metadata": {},
   "outputs": [
    {
     "name": "stdout",
     "output_type": "stream",
     "text": [
      "[('A', 'A'), ('A', 'B'), ('A', 'C'), ('A', 'D'), ('B', 'B'), ('B', 'C'), ('B', 'D'), ('C', 'C'), ('C', 'D'), ('D', 'D')]\n"
     ]
    }
   ],
   "source": [
    "from itertools import combinations_with_replacement\n",
    "\n",
    "data = ['A','B','C','D']\n",
    "result = list(combinations_with_replacement(data,2))\n",
    "print(result)"
   ]
  },
  {
   "cell_type": "markdown",
   "id": "5b580959",
   "metadata": {},
   "source": [
    "# counter"
   ]
  },
  {
   "cell_type": "code",
   "execution_count": 79,
   "id": "b7a73f1b",
   "metadata": {},
   "outputs": [
    {
     "name": "stdout",
     "output_type": "stream",
     "text": [
      "3\n",
      "2\n",
      "{'a': 3, 'c': 2, 'd': 2, 'f': 1}\n"
     ]
    }
   ],
   "source": [
    "from collections import Counter\n",
    "\n",
    "counter = Counter(['a','a','c','a','d','f','c','d'])\n",
    "print(counter['a'])\n",
    "print(counter['c'])\n",
    "print(dict(counter)) #사전 형식으로 출력"
   ]
  },
  {
   "cell_type": "markdown",
   "id": "c9048c3f",
   "metadata": {},
   "source": [
    "# 최대공약수와 최대공배수"
   ]
  },
  {
   "cell_type": "code",
   "execution_count": 84,
   "id": "8fe66edf",
   "metadata": {},
   "outputs": [
    {
     "name": "stdout",
     "output_type": "stream",
     "text": [
      "7\n",
      "42\n"
     ]
    }
   ],
   "source": [
    "import math\n",
    " \n",
    "#최소공배수\n",
    "def lcm(a,b):\n",
    "    return (a*b) // math.gcd(a,b)\n",
    "\n",
    "print(math.gcd(21,14))\n",
    "print(lcm(21,14))"
   ]
  },
  {
   "cell_type": "code",
   "execution_count": null,
   "id": "cf25a3c1",
   "metadata": {},
   "outputs": [],
   "source": []
  },
  {
   "cell_type": "code",
   "execution_count": null,
   "id": "ec865c88",
   "metadata": {},
   "outputs": [],
   "source": []
  },
  {
   "cell_type": "code",
   "execution_count": null,
   "id": "3d7c7550",
   "metadata": {},
   "outputs": [],
   "source": []
  }
 ],
 "metadata": {
  "kernelspec": {
   "display_name": "Python 3 (ipykernel)",
   "language": "python",
   "name": "python3"
  },
  "language_info": {
   "codemirror_mode": {
    "name": "ipython",
    "version": 3
   },
   "file_extension": ".py",
   "mimetype": "text/x-python",
   "name": "python",
   "nbconvert_exporter": "python",
   "pygments_lexer": "ipython3",
   "version": "3.9.7"
  }
 },
 "nbformat": 4,
 "nbformat_minor": 5
}
