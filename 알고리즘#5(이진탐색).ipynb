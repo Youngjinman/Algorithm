{
 "cells": [
  {
   "cell_type": "markdown",
   "id": "9a912fae",
   "metadata": {},
   "source": [
    "# 이진 탐색\n",
    "## 탐색 범위를 절반씩 줄여나감\n",
    "### 시간복잡도: O(log n)"
   ]
  },
  {
   "cell_type": "markdown",
   "id": "196896bf",
   "metadata": {},
   "source": [
    "## 재귀적 구현"
   ]
  },
  {
   "cell_type": "code",
   "execution_count": 8,
   "id": "8c7f3a5b",
   "metadata": {},
   "outputs": [
    {
     "name": "stdout",
     "output_type": "stream",
     "text": [
      "5 7 \n",
      "1 3 5 7 9\n",
      "4번째 원소입니다\n"
     ]
    }
   ],
   "source": [
    "def binary_search(array,target,start,end):\n",
    "    if start > end:\n",
    "        return None\n",
    "    mid = (start + end) // 2\n",
    "    if array[mid] == target:\n",
    "        return mid\n",
    "    elif target < array[mid]:\n",
    "        return binary_search(array,target,start,mid-1)\n",
    "    else:\n",
    "        return binary_search(array,target,mid+1,end)\n",
    "\n",
    "n, target = map(int,input().split())\n",
    "array = list(map(int,input().split()))\n",
    "\n",
    "result = binary_search(array,target,0,n-1)\n",
    "\n",
    "if result == None:\n",
    "    print('원소가 존재하지 않습니다')\n",
    "else:\n",
    "    print(str(result+1)+'번째 원소입니다')"
   ]
  },
  {
   "cell_type": "markdown",
   "id": "f67e5ea8",
   "metadata": {},
   "source": [
    "## 반복문 구현"
   ]
  },
  {
   "cell_type": "code",
   "execution_count": 9,
   "id": "e9242cb6",
   "metadata": {},
   "outputs": [
    {
     "name": "stdout",
     "output_type": "stream",
     "text": [
      "5 7\n",
      "1 3 5 7 9\n",
      "4번째 원소입니다\n"
     ]
    }
   ],
   "source": [
    "def binary_search(array,target,start,end):\n",
    "    while start <= end:\n",
    "        mid = (start + end) // 2\n",
    "        if array[mid] == target:\n",
    "            return mid\n",
    "        elif array[mid] > target:\n",
    "            end = mid - 1\n",
    "        else:\n",
    "            start = mid + 1\n",
    "    return None\n",
    "\n",
    "n, target = map(int,input().split())\n",
    "array = list(map(int,input().split()))\n",
    "\n",
    "result = binary_search(array,target,0,n-1)\n",
    "\n",
    "if result == None:\n",
    "    print('원소가 존재하지 않습니다')\n",
    "else:\n",
    "    print(str(result+1)+'번째 원소입니다')"
   ]
  },
  {
   "cell_type": "markdown",
   "id": "7dcb048d",
   "metadata": {},
   "source": [
    "## 이진 탐색트리 라이브러리\n",
    "### bisect_left(a,x) : 정렬된 순서를 유지하면서 배열 a에 x가 들어갈 맨 왼쪽 인덱스 반환\n",
    "### bisect_right(a,x) : 정렬된 순서를 유지하면서 배열 a에 x가 들어갈 맨 오른쪽 인덱스 반환"
   ]
  },
  {
   "cell_type": "code",
   "execution_count": 12,
   "id": "3e9ad6ae",
   "metadata": {},
   "outputs": [
    {
     "name": "stdout",
     "output_type": "stream",
     "text": [
      "2\n",
      "4\n"
     ]
    }
   ],
   "source": [
    "from bisect import bisect_left, bisect_right\n",
    "\n",
    "a = [1,2,4,4,8]\n",
    "print(bisect_left(a,4))\n",
    "print(bisect_right(a,7))"
   ]
  },
  {
   "cell_type": "markdown",
   "id": "2484bd79",
   "metadata": {},
   "source": [
    "### 특정범위에 있는 데이터의 수 구하기"
   ]
  },
  {
   "cell_type": "code",
   "execution_count": 16,
   "id": "b2708caa",
   "metadata": {},
   "outputs": [
    {
     "name": "stdout",
     "output_type": "stream",
     "text": [
      "2\n",
      "5\n"
     ]
    }
   ],
   "source": [
    "from bisect import bisect_left, bisect_right\n",
    "\n",
    "def count_by_range(a,left_value,right_value):\n",
    "    right_index = bisect_right(a,right_value)\n",
    "    left_index = bisect_left(a,left_value)\n",
    "    return right_index - left_index\n",
    "\n",
    "array = [1,4,4,7,8,9,10]\n",
    "# 4의 개수 구하기\n",
    "print(count_by_range(array,4,4))\n",
    "# 값이 [-1,8] 범위에 있는 데이터 개수 구하기\n",
    "print(count_by_range(array,-1,8))"
   ]
  },
  {
   "cell_type": "markdown",
   "id": "4bf1ffca",
   "metadata": {},
   "source": [
    "# Parametric Search\n",
    "최적화 문제를 결정 문제('예' 혹은 '아니오')로 바꾸어 해결하는 기법"
   ]
  },
  {
   "cell_type": "markdown",
   "id": "e6aced6d",
   "metadata": {},
   "source": [
    "## 떡 자르기 문제\n",
    "떡의 개수와 손님이 요청한 떡의 길이(M)를 입력 받음. 다음으로 개수에 맞는 떡의 길이들을 입력받음.\n",
    "절단기의 높이에 따라서 떡이 잘리는데 절단기의 높이보다 긴 떡은 떡길이 - 절단기의 높이 의 값이 나올 것이고, 절단기의 높이보다 작은 떡은 0이 나올 것임\n",
    "적어도 절단한 후에 떡들의 길이의 합(M)이 되는 절단기의 높이 최댓값을 구하는 문제  "
   ]
  },
  {
   "cell_type": "markdown",
   "id": "b443d80a",
   "metadata": {},
   "source": [
    "입력 예시:\n",
    "    4 6\n",
    "    19 15 10 17\n",
    "출력 예시:\n",
    "    15"
   ]
  },
  {
   "cell_type": "markdown",
   "id": "9d87f735",
   "metadata": {},
   "source": [
    "절단기의 높이를 변화시켜가면서 '예', '아니오'로 나오게 만든다. '예'(떡의 길이가 M보다 크거나 같을 때)일 경우에 중간점을 계속 변화시켜 최적의 절단기 높이를 구한다."
   ]
  },
  {
   "cell_type": "code",
   "execution_count": 17,
   "id": "fbe11b5c",
   "metadata": {},
   "outputs": [
    {
     "name": "stdout",
     "output_type": "stream",
     "text": [
      "4 6\n",
      "19 10 15 17\n",
      "15\n"
     ]
    }
   ],
   "source": [
    "# 떡의 개수(n)과 요청한 떡의 길이(m) 입력\n",
    "n, m = map(int,input().split())\n",
    "# 각 떡의 개별 길이 입력\n",
    "array = list(map(int,input().split()))\n",
    "\n",
    "#이진 탐색을 위한 시작점 끝점 입력\n",
    "start = 0\n",
    "end = max(array)\n",
    "\n",
    "#이진 탐색 수행(반복문)\n",
    "result = 0\n",
    "while (start <= end):\n",
    "    total = 0\n",
    "    mid = (start + end) // 2\n",
    "    for x in array:\n",
    "        # 잘랐을 때의 떡의 양 계산\n",
    "        if x > mid:\n",
    "            total += x-mid\n",
    "    #떡의 양이 모자를 때 더 많이 자르기(왼쪽에서 이진탐색)\n",
    "    if total < m:\n",
    "        end = mid - 1\n",
    "    #떡의 양이 충분할 때 덜 자르기(오른쪽에서 이진탐색)\n",
    "    else:\n",
    "        result = mid #떡의 양이 만족을 했으므로 일단 값을 저장\n",
    "        start = mid + 1\n",
    "    \n",
    "print(result)"
   ]
  },
  {
   "cell_type": "markdown",
   "id": "31af06b9",
   "metadata": {},
   "source": [
    "## 시간복잡도 O(log n)의 특정 숫자 개수 찾기 문제\n",
    "이미 배열은 오름차순으로 정렬되어있음\n",
    "찾는 숫자가 없으면 -1 출력"
   ]
  },
  {
   "cell_type": "code",
   "execution_count": 6,
   "id": "47ef10c1",
   "metadata": {},
   "outputs": [
    {
     "name": "stdout",
     "output_type": "stream",
     "text": [
      "7 4 \n",
      "2 1 4 4 4 6 7\n",
      "3\n"
     ]
    }
   ],
   "source": [
    "from bisect import bisect_left, bisect_right\n",
    "\n",
    "def count_num(array,left_value,right_value):\n",
    "    left_index = bisect_left(array,left_value)\n",
    "    right_index = bisect_right(array,right_value)\n",
    "    return right_index - left_index\n",
    "#배열의 수와 찾으려는 숫자 입력 받기\n",
    "n, k = map(int,input().split())\n",
    "#배열 입력 받기\n",
    "array = list(map(int,input().split()))\n",
    "\n",
    "result = count_num(array,k,k)\n",
    "if result==0:\n",
    "    print(-1)\n",
    "else:\n",
    "    print(result)"
   ]
  },
  {
   "cell_type": "code",
   "execution_count": null,
   "id": "3fc84045",
   "metadata": {},
   "outputs": [],
   "source": []
  },
  {
   "cell_type": "code",
   "execution_count": null,
   "id": "8fa15ca0",
   "metadata": {},
   "outputs": [],
   "source": []
  }
 ],
 "metadata": {
  "kernelspec": {
   "display_name": "Python 3 (ipykernel)",
   "language": "python",
   "name": "python3"
  },
  "language_info": {
   "codemirror_mode": {
    "name": "ipython",
    "version": 3
   },
   "file_extension": ".py",
   "mimetype": "text/x-python",
   "name": "python",
   "nbconvert_exporter": "python",
   "pygments_lexer": "ipython3",
   "version": "3.9.7"
  }
 },
 "nbformat": 4,
 "nbformat_minor": 5
}
