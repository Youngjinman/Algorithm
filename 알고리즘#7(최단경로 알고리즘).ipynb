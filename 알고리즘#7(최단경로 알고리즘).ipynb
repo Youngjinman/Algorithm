{
 "cells": [
  {
   "cell_type": "markdown",
   "id": "3310b792",
   "metadata": {},
   "source": [
    "# 다익스트라 알고리즘"
   ]
  },
  {
   "cell_type": "markdown",
   "id": "abe48ded",
   "metadata": {},
   "source": [
    "특정 노드에서 다른 모든 노드로 가는 최단 경로 탐색 알고리즘.\n",
    "음의 간선이 없을 때 정상적으로 작동.\n",
    "그리디 알고리즘"
   ]
  },
  {
   "cell_type": "markdown",
   "id": "f7400f2d",
   "metadata": {},
   "source": [
    "1. 출발 노드 설정\n",
    "2. 최단 거리 테이블 초기화 (자기 자신 노드는 0, 나머지는 무한대로 설정)\n",
    "3. 방문하지 않은 노드 중에서 가장 짧은 노드 선택(그리디)\n",
    "4. 비용 계산하여 테이블 갱신\n",
    "5. 3,4과정 반복\n"
   ]
  },
  {
   "cell_type": "code",
   "execution_count": 2,
   "id": "4e23a973",
   "metadata": {},
   "outputs": [
    {
     "name": "stdout",
     "output_type": "stream",
     "text": [
      "6 11\n",
      "1\n",
      "1 2 2\n",
      "1 4 1\n",
      "1 3 5\n",
      "2 4 2\n",
      "2 3 3\n",
      "3 2 3\n",
      "3 6 5\n",
      "4 3 3\n",
      "4 5 1\n",
      "5 3 1\n",
      "5 6 2\n",
      "0\n",
      "2\n",
      "3\n",
      "1\n",
      "2\n",
      "4\n"
     ]
    }
   ],
   "source": [
    "INF = int(1e9) # 10억\n",
    "\n",
    "#노드와 간선의 개수 입력 받기\n",
    "n, m = map(int,input().split())\n",
    "#시작 노드 입력 받기\n",
    "start = int(input())\n",
    "#각 노드에 연결되어 있는 노드 정보를 담는 리스트 만들기\n",
    "graph = [[] for i in range(n+1)] # 노드 번호와 index를 동일하게 하기 위해 n+1\n",
    "#방문 체크 리스트 만들기\n",
    "visited = [False] * (n+1)\n",
    "#최단 거리 테이블 무한대로 초기화\n",
    "distance = [INF] * (n+1)\n",
    "\n",
    "#간선 정보 입력\n",
    "for _ in range(m):\n",
    "    a,b,c = map(int,input().split())\n",
    "    graph[a].append((b,c)) # a번 노드에서 b번 노드로 가는 비용이 c\n",
    "\n",
    "#방문하지 않은 노드중에서 가장 거리가 짧은 노드 번호 반환\n",
    "def get_smallest_node():\n",
    "    min_value = INF\n",
    "    index = 0 #가장 최단 거리가 짧은 노드(인덱스)\n",
    "    for i in range(1,n+1):\n",
    "        if distance[i]<min_value and not visited[i]:\n",
    "            min_value = distance[i]\n",
    "            index = i\n",
    "    return index\n",
    "\n",
    "def dijkstra(start):\n",
    "    #시작 노드에 대해 초기화\n",
    "    distance[start] = 0\n",
    "    visited[start] = True\n",
    "    for j in graph[start]:\n",
    "        distance[j[0]] = j[1]\n",
    "    #시작 노드를 제외한 전체 n-1에 대해 반복\n",
    "    for i in range(n-1):\n",
    "        #현재 최단 거리가 가장 짧은 노드에 대해 방문 처리\n",
    "        now = get_smallest_node()\n",
    "        visited[now] = True\n",
    "        #현재 노드와 연결된 다른 노드 확인\n",
    "        for j in graph[now]:\n",
    "            cost = distance[now] + j[1]\n",
    "            #현재 노드를 거쳐서 다른 노드로 가는 거리가 더 짧은 경우\n",
    "            if cost < distance[j[0]]:\n",
    "                distance[j[0]] = cost\n",
    "                \n",
    "#다익스트라 알고리즘 수행\n",
    "dijkstra(start)\n",
    "\n",
    "#모든 노드로 가기 위한 최단거리 출력\n",
    "for i in range(1,n+1):\n",
    "    #도달할 수 없는 경우\n",
    "    if distance[i]==INF:\n",
    "        print('INFINITY')\n",
    "    #도달할 수 있는 경우 거리를 출력 \n",
    "    else:\n",
    "        print(distance[i])"
   ]
  },
  {
   "cell_type": "markdown",
   "id": "cd702373",
   "metadata": {},
   "source": [
    "위의 경우 시간 복잡도 O(n^2) 따라서 노드의 개수 많아지면 시간 초과"
   ]
  },
  {
   "cell_type": "markdown",
   "id": "45f503ae",
   "metadata": {},
   "source": [
    "## 우선 순위 큐\n",
    "우선 순위가 높은 순서대로 출력. 힙(heap)을 통해서 구현하면 시간복잡도 O(log n)"
   ]
  },
  {
   "cell_type": "code",
   "execution_count": 3,
   "id": "36cd7576",
   "metadata": {},
   "outputs": [
    {
     "name": "stdout",
     "output_type": "stream",
     "text": [
      "[0, 1, 2, 3, 4, 5, 6, 7, 8, 9]\n"
     ]
    }
   ],
   "source": [
    "#Min_Heap\n",
    "import heapq\n",
    "#오름차순 힙정렬 (기본적으로 힙은 오름차순으로 넣음)\n",
    "def heapsort(iterable):\n",
    "    h=[]\n",
    "    result=[]\n",
    "    #모든 원소들을 차례대로 힙에 삽입\n",
    "    for value in iterable:\n",
    "        heapq.heappush(h,value)\n",
    "    #힙에 삽입된 원소를 꺼내어 result에 담기\n",
    "    for i in range(len(h)):\n",
    "        result.append(heapq.heappop(h))\n",
    "    return result\n",
    "\n",
    "result = heapsort([4,2,7,9,0,1,6,3,5,8]) #시간복잡도 O(nlog n)\n",
    "print(result)"
   ]
  },
  {
   "cell_type": "code",
   "execution_count": 4,
   "id": "beb05931",
   "metadata": {},
   "outputs": [
    {
     "name": "stdout",
     "output_type": "stream",
     "text": [
      "[9, 8, 7, 6, 5, 4, 3, 2, 1, 0]\n"
     ]
    }
   ],
   "source": [
    "#Max_Heap\n",
    "import heapq\n",
    "#내림차순 힙정렬(부호바꿔서 오름차순으로 넣고 꺼낼때 다시 부호 바꿔줌)\n",
    "def heapsort(iterable):\n",
    "    h=[]\n",
    "    result=[]\n",
    "    for value in iterable:\n",
    "        heapq.heappush(h,-value)\n",
    "    for i in range(len(h)):\n",
    "        result.append(-heapq.heappop(h))\n",
    "    return result\n",
    "\n",
    "result = heapsort([4,2,7,9,0,1,6,3,5,8]) #시간복잡도 O(nlog n)\n",
    "print(result)"
   ]
  },
  {
   "cell_type": "markdown",
   "id": "3aadb79e",
   "metadata": {},
   "source": [
    "## 개선된 다익스트라 알고리즘\n",
    "    우선 순위 큐에 넣을 때는 갱신된 노드의 정보만 넣음(distance[]원래의 거리와 이전 노드의 distance+다음노드의 graph[]두번째 원소값 비교)\n",
    "    최단거리가 가장 짧은 노드를 선택할 때 힙 자료구조를 이용 -> 짧은 최단거리 노드를 구해야하므로 min_heap 사용"
   ]
  },
  {
   "cell_type": "code",
   "execution_count": 2,
   "id": "75b20de9",
   "metadata": {},
   "outputs": [
    {
     "name": "stdout",
     "output_type": "stream",
     "text": [
      "6 11\n",
      "1\n",
      "1 2 2\n",
      "1 4 1\n",
      "1 3 5\n",
      "2 4 2\n",
      "2 3 3\n",
      "3 2 3\n",
      "3 6 5\n",
      "4 3 3\n",
      "4 5 1\n",
      "5 3 1\n",
      "5 6 2\n",
      "0\n",
      "2\n",
      "3\n",
      "1\n",
      "2\n",
      "4\n"
     ]
    }
   ],
   "source": [
    "import heapq\n",
    "INF = int(1e9)\n",
    "\n",
    "n, m = map(int,input().split())\n",
    "start = int(input())\n",
    "graph = [[] for i in range(n+1)]\n",
    "#visited 리스트 안쓰고 다익스트라 함수내에서 우선순위 큐에서 pop 된 것은 이미 방문한 것으로 처리\n",
    "distance = [INF] * (n+1)\n",
    "\n",
    "\n",
    "for _ in range(m):\n",
    "    a,b,c = map(int,input().split())\n",
    "    graph[a].append((b,c))\n",
    "\n",
    "def dijkstra(start):\n",
    "    q=[] #우선 순위 큐\n",
    "    heapq.heappush(q,(0,start)) #거리0, 노드1을 차례대로 삽입.\n",
    "    distance[start] = 0\n",
    "    while q: #큐가 비어있지 않다면\n",
    "        #가장 최단거리 짧은 노드 정보 꺼내기\n",
    "        dist, now = heapq.heappop(q) \n",
    "        #현재 노드가 이미 처리된거라면 무시\n",
    "        if distance[now] < dist: #현재 우선순위 큐에서 꺼낸 거리(dist)가 distance 테이블의 거리보다 크다면\n",
    "            continue\n",
    "        #현재 노드와 연결된 다른 인접한 노드들을 확인\n",
    "        for i in graph[now]:\n",
    "            cost = dist + i[1]\n",
    "            #현재 노드를 거쳐서 다른 노드로 이동하는 거리가 더 짧은 경우\n",
    "            if cost < distance[i[0]]:\n",
    "                distance[i[0]] = cost #갱신된 거리를 distance 테이블에 기록\n",
    "                heapq.heappush(q,(cost,i[0]))\n",
    "\n",
    "#다익스트라 알고리즘 수행\n",
    "dijkstra(start)\n",
    "\n",
    "#모든 노드로 가기 위한 최단거리 출력\n",
    "for i in range(1,n+1):\n",
    "    #도달할 수 없는 경우\n",
    "    if distance[i]==INF:\n",
    "        print('INFINITY')\n",
    "    #도달할 수 있는 경우 거리를 출력 \n",
    "    else:\n",
    "        print(distance[i])"
   ]
  },
  {
   "cell_type": "markdown",
   "id": "cdf815fa",
   "metadata": {},
   "source": [
    "#### 시간복잡도: O(ElogV)\n",
    "    E: 간선의 개수\n",
    "    V: 노드의 개수"
   ]
  },
  {
   "cell_type": "markdown",
   "id": "e4f61054",
   "metadata": {},
   "source": [
    "# 플로이드 워셜 알고리즘\n",
    "    다익스트라 알고리즘을 다이나믹 프로그램으로 처리(2차원 테이블에 최단거리 정보 저장)\n",
    "    코드는 간단하나, 시간복잡도가 O(n^3) 이기 때문에 노드와 간선의 개수가 적을 때만 사용\n",
    "    각 단계마다 노드 k를 거쳐가는 경우를 확인: 점화식 D ab = min(D ab, D ak + D kb)"
   ]
  },
  {
   "cell_type": "code",
   "execution_count": 6,
   "id": "30f437b2",
   "metadata": {},
   "outputs": [
    {
     "name": "stdout",
     "output_type": "stream",
     "text": [
      "4 7\n",
      "1 2 4\n",
      "1 4 6\n",
      "2 1 3\n",
      "2 3 7\n",
      "3 1 5\n",
      "3 4 4\n",
      "4 3 2\n",
      "0 4 8 6 \n",
      "3 0 7 9 \n",
      "5 9 0 4 \n",
      "7 11 2 0 \n"
     ]
    }
   ],
   "source": [
    "INF = int(1e9) #무한대\n",
    "#노드와 간선 개수 입력\n",
    "n, m = map(int,input().split())\n",
    "#2차원 테이블 무한대로 초기화\n",
    "graph = [[INF]*(n+1) for _ in range(n+1)]\n",
    "#아이덴티티 행렬 0으로 (자기자신의 거리 0으로)\n",
    "for i in range(1,n+1):\n",
    "    for j in range(1,n+1):\n",
    "        if i==j:\n",
    "            graph[i][j] = 0\n",
    "#각 간선 정보 입력 (a에서 b까지 거리 c)\n",
    "for i in range(m):\n",
    "    a,b,c = map(int,input().split())\n",
    "    graph[a][b] = c\n",
    "#플로이드 워셜 알고리즘\n",
    "for k in range(1,n+1):\n",
    "    for i in range(1,n+1):\n",
    "        for j in range(1,n+1):\n",
    "            graph[i][j] = min(graph[i][j], graph[i][k]+graph[k][j])\n",
    "#결과 출력\n",
    "for i in range(1,n+1):\n",
    "    for j in range(1,n+1):\n",
    "        if graph[i][j] == 'INF':\n",
    "            print('INFINITY')\n",
    "        else:\n",
    "            print(graph[i][j], end=' ')\n",
    "    print()"
   ]
  },
  {
   "cell_type": "markdown",
   "id": "b6ea0294",
   "metadata": {},
   "source": [
    "## 문제 1 : 메시지를 보낼 수 있는 도시의 수와 걸리는 시간 출력"
   ]
  },
  {
   "cell_type": "markdown",
   "id": "28fbd05c",
   "metadata": {},
   "source": [
    "입력 첫 줄에는 도시의 수, 통로의 수, 보내는 도시 넘버 입력. 그 밑의 줄들은 보내는 도시, 받는 도시, 걸리는 시간을 입력\n",
    "-> 메시지를 받을 수 있는 도시를 출력. 걸리는 총 시간을 출력해야하므로 가장 거리가 먼 도시를 출력하면 됨."
   ]
  },
  {
   "cell_type": "markdown",
   "id": "72765237",
   "metadata": {},
   "source": [
    "-> 한 도시에서 다른 도시로 가는 최단거리문제. 다익스트라 알고리즘 & 우선순위 큐 활용"
   ]
  },
  {
   "cell_type": "code",
   "execution_count": 3,
   "id": "05e3ca2e",
   "metadata": {},
   "outputs": [
    {
     "name": "stdout",
     "output_type": "stream",
     "text": [
      "3 2 1\n",
      "1 2 4\n",
      "1 3 5\n",
      "2 5\n"
     ]
    }
   ],
   "source": [
    "#다익스트라 알고리즘: start 노드 우선 순위 큐에 넣는다.\n",
    "    #큐를 pop 시킨 dist, 노드 번호에 대해 다음 노드로 가는 거리가 원래 그 노드로 가는 거리보다 작다면 distance 테이블을 교체\n",
    "    #우선순위 큐에 넣는다. 반복.\n",
    "import heapq\n",
    "INF = int(1e9)\n",
    "\n",
    "def dijkstra(start):\n",
    "    q= [] #우선순위 큐\n",
    "    distance[start]=0\n",
    "    heapq.heappush(q,(0,start)) #거리와 노드번호 push\n",
    "    while q:\n",
    "        dist, now = heapq.heappop(q)\n",
    "        if distance[now] < dist:\n",
    "            continue\n",
    "        for i in graph[now]:\n",
    "            cost = dist + i[1]\n",
    "            if cost < distance[i[0]]:\n",
    "                distance[i[0]] = cost\n",
    "                heapq.heappush(q,(cost,i[0]))\n",
    "            \n",
    "#도시의 개수와 간선, 시작 노드 번호 입력\n",
    "n, m, start = map(int,input().split())\n",
    "graph = [[] for i in range(n+1)]\n",
    "distance = [INF] * (n+1)\n",
    "for i in range(m): #x번 노드에서 y번 노드까지 걸리는 거리 z\n",
    "    x, y, z = map(int,input().split())\n",
    "    graph[x].append((y,z))\n",
    "\n",
    "dijkstra(start)\n",
    "\n",
    "count = 0 #도시의 개수 세기 위함\n",
    "max_distance = 0\n",
    "\n",
    "for d in distance:\n",
    "    if d != INF:\n",
    "        count += 1\n",
    "        max_distance = max(d,max_distance)\n",
    "        \n",
    "print(count-1, max_distance) #시작 도시 제외\n",
    "    "
   ]
  },
  {
   "cell_type": "markdown",
   "id": "0ef97ba3",
   "metadata": {},
   "source": [
    "## 문제 2: 목표로 가기 위해 중간에 특정 노드는 거쳐야하며 간선은 양방향으로 갈 수 있다. 최소 이동 거리 구하시오. (도달할 수 없으면 -1)\n",
    "    "
   ]
  },
  {
   "cell_type": "markdown",
   "id": "d8d2c6d4",
   "metadata": {},
   "source": [
    "    첫째 줄: 노드의 개수, 간선의 개수\n",
    "    둘째 줄부터: 연결된 노드의 번호 2개 (공백으로 구분)\n",
    "    마지막 줄: 목표 노드와 중간 특정 노드 (공백으로 구분)"
   ]
  },
  {
   "cell_type": "code",
   "execution_count": 4,
   "id": "26de89aa",
   "metadata": {},
   "outputs": [],
   "source": [
    "#n의 크기가 최대 100까지 입력 가능하므로 플로이드 워셜 알고리즘 사용\n",
    "#시작노드부터 특정노드의 거리 + 특정 노드부터 목표노드까지의 거리"
   ]
  },
  {
   "cell_type": "code",
   "execution_count": 8,
   "id": "bf575bf0",
   "metadata": {},
   "outputs": [
    {
     "name": "stdout",
     "output_type": "stream",
     "text": [
      "5 7\n",
      "1 2\n",
      "1 3\n",
      "1 4\n",
      "2 4\n",
      "3 4\n",
      "3 5\n",
      "4 5\n",
      "4 5\n",
      "3\n"
     ]
    }
   ],
   "source": [
    "INF = int(1e9) #무한\n",
    "\n",
    "n, m = map(int,input().split()) #노드와 간선\n",
    "graph = [[INF]*(n+1) for _ in range(n+1)] #2차원 리스트 테이블, INF로 초기화\n",
    "\n",
    "#아이덴티티 matrix\n",
    "for a in range(1,n+1):\n",
    "    for b in range(1,n+1):\n",
    "        if a == b:\n",
    "            graph[a][b] = 0\n",
    "#회사to회사 입력     \n",
    "for _ in range(m):\n",
    "    a, b = map(int,input().split())\n",
    "    graph[a][b] = 1\n",
    "    graph[b][a] = 1\n",
    "\n",
    "#목표노드, 특정노드\n",
    "x, k = map(int,input().split())\n",
    "\n",
    "#플로이드 워셜\n",
    "for k in range(1,n+1):\n",
    "    for a in range(1,n+1):\n",
    "        for b in range(1,n+1):\n",
    "            graph[a][b] = min(graph[a][b], graph[a][k] + graph[k][b])\n",
    "#최단거리            \n",
    "distance = graph[1][k]+ graph[k][x]\n",
    "\n",
    "if distance == INF:\n",
    "    print(-1)\n",
    "else:\n",
    "    print(distance)"
   ]
  }
 ],
 "metadata": {
  "kernelspec": {
   "display_name": "Python 3 (ipykernel)",
   "language": "python",
   "name": "python3"
  },
  "language_info": {
   "codemirror_mode": {
    "name": "ipython",
    "version": 3
   },
   "file_extension": ".py",
   "mimetype": "text/x-python",
   "name": "python",
   "nbconvert_exporter": "python",
   "pygments_lexer": "ipython3",
   "version": "3.9.7"
  }
 },
 "nbformat": 4,
 "nbformat_minor": 5
}
