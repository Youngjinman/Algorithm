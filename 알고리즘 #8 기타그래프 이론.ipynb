{
 "cells": [
  {
   "cell_type": "markdown",
   "id": "22409d01",
   "metadata": {},
   "source": [
    "## 서로소 집합"
   ]
  },
  {
   "cell_type": "markdown",
   "id": "da165b24",
   "metadata": {},
   "source": [
    "### 합집합: 두개의 원소가 포함된 집합을 하나의 집합으로 합치는 연산\n",
    "### 찾기: 특정한 원소가 속한 집합이 어떤 집합인지 알려주는 연산\n",
    "    1. 합집합 연산을 확인하여 서로 연결된 두 노드를 확인\n",
    "        1) a,b노드의 루트노드 a', b'노드를 찾음\n",
    "        2) a'를 b'의 부모노드로 설정\n",
    "    2. 모든 합집합 연산을 처리할 때까지 1을 반복"
   ]
  },
  {
   "cell_type": "code",
   "execution_count": 5,
   "id": "60cff6d0",
   "metadata": {},
   "outputs": [
    {
     "name": "stdout",
     "output_type": "stream",
     "text": [
      "6 4\n",
      "1 4\n",
      "2 3\n",
      "2 4\n",
      "5 6\n",
      "각 원소가 속한 집합: 1 1 1 1 5 5 \n",
      "부모 테이블 출력: 1 1 2 1 5 5 "
     ]
    }
   ],
   "source": [
    "#특정 원소가 속한 집합 찾기(부모 노드 반환)\n",
    "def find_parent(parent, x):\n",
    "    if parent[x] != x:\n",
    "        return find_parent(parent, parent[x])\n",
    "    return x\n",
    "\n",
    "#두 원소가 속한 집합을 합치기\n",
    "def union_parent(parent, a, b):\n",
    "    a = find_parent(parent,a)\n",
    "    b = find_parent(parent,b)\n",
    "    # 루트노드가 더 작은 쪽으로 맞춤\n",
    "    if a < b:\n",
    "        parent[b] = a\n",
    "    else:\n",
    "        parent[a] = b\n",
    "        \n",
    "#노드의 개수와 간선(union 연산)의 개수 입력\n",
    "v, e = map(int,input().split())\n",
    "parent = [0] * (v+1) #부모테이블 초기화\n",
    "\n",
    "#부모 테이블 상에서 부모를 자기 자신으로 초기화\n",
    "for i in range(1, v+1):\n",
    "    parent[i] = i\n",
    "    \n",
    "#union 연산을 각각 수행\n",
    "for i in range(e):\n",
    "    a, b= map(int,input().split())\n",
    "    union_parent(parent,a,b)\n",
    "    \n",
    "#각 원소가 속한 집합 출력\n",
    "print('각 원소가 속한 집합: ', end='')\n",
    "for i in range(1,v+1):\n",
    "    print(find_parent(parent,i), end=' ')\n",
    "print()\n",
    "\n",
    "#부모 테이블 내용 출력\n",
    "print('부모 테이블 출력: ', end='')\n",
    "for i in range(1,v+1):\n",
    "    print(parent[i], end=' ')"
   ]
  },
  {
   "cell_type": "markdown",
   "id": "3f08fef4",
   "metadata": {},
   "source": [
    "    위의 알고리즘은 찾기 함수가 최악의 경우 모든 노드를 다 확인해야하므로 시간 복잡도가 O(V)임\n",
    "    -> 부모노드를 찾을 때 위처럼 단순히 부모의 값을 반환하는 것뿐만 아니라 부모테이블을 수정하면 시간복잡도 개선"
   ]
  },
  {
   "cell_type": "code",
   "execution_count": 6,
   "id": "fd874f94",
   "metadata": {},
   "outputs": [
    {
     "name": "stdout",
     "output_type": "stream",
     "text": [
      "6 4\n",
      "1 4\n",
      "2 3\n",
      "2 4\n",
      "5 6\n",
      "각 원소가 속한 집합: 1 1 1 1 5 5 \n",
      "부모 테이블 출력: 1 1 1 1 5 5 "
     ]
    }
   ],
   "source": [
    "#위의 코드에서 find 함수만 바꿈\n",
    "#특정 원소가 속한 집합 찾기(루트 노드 반환)\n",
    "def find_parent(parent, x):\n",
    "    if parent[x] != x:\n",
    "        parent[x] = find_parent(parent, parent[x])\n",
    "    return parent[x]\n",
    "\n",
    "#두 원소가 속한 집합을 합치기\n",
    "def union_parent(parent, a, b):\n",
    "    a = find_parent(parent,a)\n",
    "    b = find_parent(parent,b)\n",
    "    # 루트노드가 더 작은 쪽으로 맞춤\n",
    "    if a < b:\n",
    "        parent[b] = a\n",
    "    else:\n",
    "        parent[a] = b\n",
    "        \n",
    "#노드의 개수와 간선(union 연산)의 개수 입력\n",
    "v, e = map(int,input().split())\n",
    "parent = [0] * (v+1) #부모테이블 초기화\n",
    "\n",
    "#부모 테이블 상에서 부모를 자기 자신으로 초기화\n",
    "for i in range(1, v+1):\n",
    "    parent[i] = i\n",
    "    \n",
    "#union 연산을 각각 수행\n",
    "for i in range(e):\n",
    "    a, b= map(int,input().split())\n",
    "    union_parent(parent,a,b)\n",
    "    \n",
    "#각 원소가 속한 집합 출력\n",
    "print('각 원소가 속한 집합: ', end='')\n",
    "for i in range(1,v+1):\n",
    "    print(find_parent(parent,i), end=' ')\n",
    "print()\n",
    "\n",
    "#부모 테이블 내용 출력\n",
    "print('부모 테이블 출력: ', end='')\n",
    "for i in range(1,v+1):\n",
    "    print(parent[i], end=' ')"
   ]
  },
  {
   "cell_type": "markdown",
   "id": "0bf786b9",
   "metadata": {},
   "source": [
    "## 서로소 집합을 이용한 사이클 판단(노드들이 뺑뺑이로 연결되어 있는지)\n",
    "    무방향 그래프를 가정\n",
    "    1. 각 간선을 하나씩 확인하며 두 노드의 루트 노드 확인\n",
    "        1) 루트 노드가 서로 다르면 두 노드에 대해 합집합 연산 수행\n",
    "        2) 루트 노드가 서로 같다면 사이클 발생(이어져 있으므로)\n",
    "    2. 그래프에 포함되어 있는 모든 간선에 대해 1 반복"
   ]
  },
  {
   "cell_type": "code",
   "execution_count": 9,
   "id": "4e5db611",
   "metadata": {},
   "outputs": [
    {
     "name": "stdout",
     "output_type": "stream",
     "text": [
      "5 5\n",
      "1 2 \n",
      "1 3\n",
      "1 4\n",
      "1 5\n",
      "2 3\n",
      "사이클 발생\n"
     ]
    }
   ],
   "source": [
    "#찾기, 합집합 함수는 위와 같음\n",
    "def find_parent(parent,x):\n",
    "    if parent[x] != x:\n",
    "        parent[x] = find_parent(parent,parent[x])\n",
    "    return parent[x]\n",
    "\n",
    "def union_parent(parent,a,b):\n",
    "    a = find_parent(parent,a)\n",
    "    b = find_parent(parent,b)\n",
    "    if a < b:\n",
    "        parent[b] = a\n",
    "    else:\n",
    "        parent[a] = b\n",
    "\n",
    "v, e = map(int,input().split())\n",
    "parent = [0] * (v+1)\n",
    "\n",
    "for i in range(1, v+1):\n",
    "    parent[i] = i\n",
    "\n",
    "cycle = False #사이클 발생 여부\n",
    "\n",
    "for i in range(e):\n",
    "    a, b = map(int,input().split())\n",
    "    #사이클이 발생할 경우 종료\n",
    "    if find_parent(parent,a) == find_parent(parent,b):\n",
    "        cycle = True\n",
    "        break\n",
    "    #사이클 발생 안했다면 합집합 연산 수행\n",
    "    else:\n",
    "        union_parent(parent,a,b)\n",
    "\n",
    "if cycle:\n",
    "    print('사이클 발생')\n",
    "else:\n",
    "    print('사이클 발생x')"
   ]
  },
  {
   "cell_type": "markdown",
   "id": "a2888b0e",
   "metadata": {},
   "source": [
    "## 신장트리\n",
    "    그래프에서 모든 노드를 포함하면서 사이클이 발생하지 않는 부분 그래프 -> 트리의 조건이기도 함\n",
    "## 최소신장트리\n",
    "    최소한의 간선으로 구성되는 신장트리"
   ]
  },
  {
   "cell_type": "markdown",
   "id": "fabc2045",
   "metadata": {},
   "source": [
    "# 크루스칼 알고리즘\n",
    "    최소 신장 트리를 찾는 알고리즘(그리디)\n",
    "    시간복잡도 O(ElogE) -> E는 간선의 개수 : 간선 정렬하는데 쓰이는 sort함수가 nlogn임\n",
    "    1.간선 데이터를 오름차순 정렬\n",
    "    2. 간선을 하나씩 확인하며 사이클 발생하는지 확인\n",
    "        1) 사이클 발생하면 제외\n",
    "        2) 사이클 발생하지 않으면 포함(합집합 함수)\n",
    "    3. 모든 간선에 대하여 2 반복"
   ]
  },
  {
   "cell_type": "code",
   "execution_count": 7,
   "id": "b5f9817e",
   "metadata": {},
   "outputs": [
    {
     "name": "stdout",
     "output_type": "stream",
     "text": [
      "노드와 간선 개수 입력: \n",
      "7 9\n",
      "간선의 비용과 연결된 두 노드 입력: \n",
      "29 1 2\n",
      "75 1 5\n",
      "35 2 3\n",
      "34 2 6\n",
      "7 3 4\n",
      "23 4 6\n",
      "13 4 7\n",
      "54 5 6\n",
      "25 6 7\n",
      "160\n"
     ]
    }
   ],
   "source": [
    "def find_parent(parent,x):\n",
    "    if x != parent[x]:\n",
    "        parent[x] = find_parent(parent,parent[x])\n",
    "    return parent[x]\n",
    "\n",
    "def union_parent(parent,a,b):\n",
    "    a = find_parent(parent,a)\n",
    "    b = find_parent(parent,b)\n",
    "    if a<b:\n",
    "        parent[b] = a\n",
    "    else:\n",
    "        parent[a] = b\n",
    "#모든 간선을 담을 리스트와 최종비용을 담을 변수\n",
    "edges=[]\n",
    "result = 0\n",
    "\n",
    "print('노드와 간선 개수 입력: ')\n",
    "v, e = map(int,input().split())\n",
    "\n",
    "parent = [0] * (v+1)\n",
    "\n",
    "for i in range(1,v+1):\n",
    "    parent[i] = i\n",
    "#비용순으로 오름차순 정렬을 위해 튜플의 첫 번쨰 원소를 비용으로 설정\n",
    "print('간선의 비용과 연결된 두 노드 입력: ')\n",
    "for i in range(e):\n",
    "    cost, a, b = map(int,input().split())\n",
    "    edges.append((cost,a,b))\n",
    "#비용순으로 정렬\n",
    "edges.sort()\n",
    "\n",
    "#간선을 하나씩 확인하며\n",
    "for edge in edges:\n",
    "    cost, a, b = edge\n",
    "    #사이클이 발생하지 않는 경우에만 집합에 포함\n",
    "    if find_parent(parent,a) != find_parent(parent,b):\n",
    "        union_parent(parent,a,b)\n",
    "        result += cost\n",
    "        \n",
    "print(result)"
   ]
  },
  {
   "cell_type": "markdown",
   "id": "4c327a3a",
   "metadata": {},
   "source": [
    "# 위상 정렬\n",
    "    시간복잡도: O(V+E) -> 노드개수+ 간선개수\n",
    "    사이클이 없는 방향 그래프에서 모든 노드를 방향성에 거스르지 않도록 순서대로 나열\n",
    "    위상 정렬은 순환하지 않는 방향 그래프에서만 작동\n",
    "### indegree\n",
    "    특정 노드에서 들어오는 간선의 개수\n",
    "### outdegree\n",
    "    특정 노드에서 나가는 간선의 개수\n",
    "\n",
    "위상 정렬 알고리즘:\n",
    "    indegree가 0인 모든 노드를 큐에 넣는다.  \n",
    "    큐가 빌때까지 반복: 큐에서 원소를 꺼내 해당 노드에서 나가는 간선을 그래프에서 제거한다.\n",
    "    새롭게 indegree가 0이 된 노드를 큐에 넣는다. -> 각 노드가 큐에 들어온 순서가 위상 정렬을 수행한 결과  \n",
    "    큐에 들어가는 원소가 2개 이상이라면 여러가지 답이 존재 가능  \n",
    "    모든 원소를 방문하기 전에 큐가 빈다면 사이클이 존재"
   ]
  },
  {
   "cell_type": "code",
   "execution_count": 5,
   "id": "336f09d2",
   "metadata": {},
   "outputs": [
    {
     "name": "stdout",
     "output_type": "stream",
     "text": [
      "노드와 간선 개수 입력: \n",
      "7 8\n",
      "간선 정보 입력\n",
      "1 2\n",
      "1 5\n",
      "2 3\n",
      "2 6\n",
      "3 4\n",
      "4 7\n",
      "5 6\n",
      "6 4\n",
      "1 2 5 3 6 4 7 "
     ]
    }
   ],
   "source": [
    "from collections import deque\n",
    "#노드의 개수와 간선 개수 입력\n",
    "print('노드와 간선 개수 입력: ')\n",
    "v, e = map(int,input().split())\n",
    "#모든 노드에 대해 indegree 0으로 초기화\n",
    "indegree = [0] * (v+1)\n",
    "#각 노드에 연결된 간선의 정보를 입력할 수 있는 2차원 리스트 초기화\n",
    "graph = [[] for _ in range(e)]\n",
    "\n",
    "#방향 그래프의 모든 간선 정보 입력\n",
    "print('간선 정보 입력')\n",
    "for _ in range(e):\n",
    "    a,b = map(int,input().split())\n",
    "    graph[a].append(b)\n",
    "    # b로 들어오는 간선 개수 추가\n",
    "    indegree[b] += 1\n",
    "\n",
    "#위상 정렬 알고리즘\n",
    "def topology_sort():\n",
    "    q = deque()\n",
    "    result = [] # 위상 정렬 결과 담을 리스트\n",
    "    for i in range(1,v+1):\n",
    "        if indegree[i] == 0:\n",
    "            q.append(i)\n",
    "    while q:\n",
    "        now = q.popleft()\n",
    "        #큐에서 pop된 노드는 result에 추가\n",
    "        result.append(now)\n",
    "        for i in graph[now]: #now가 가리키는 노드들에 대해\n",
    "            indegree[i] -= 1\n",
    "            if indegree[i] == 0:\n",
    "                #받는 간선이 하나도 없으면 큐에 추가\n",
    "                q.append(i)\n",
    "    for i in result:\n",
    "        print(i, end=' ')\n",
    "topology_sort()\n",
    "            "
   ]
  }
 ],
 "metadata": {
  "kernelspec": {
   "display_name": "Python 3 (ipykernel)",
   "language": "python",
   "name": "python3"
  },
  "language_info": {
   "codemirror_mode": {
    "name": "ipython",
    "version": 3
   },
   "file_extension": ".py",
   "mimetype": "text/x-python",
   "name": "python",
   "nbconvert_exporter": "python",
   "pygments_lexer": "ipython3",
   "version": "3.9.7"
  }
 },
 "nbformat": 4,
 "nbformat_minor": 5
}
